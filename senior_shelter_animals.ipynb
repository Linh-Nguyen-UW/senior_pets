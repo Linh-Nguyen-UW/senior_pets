{
 "cells": [
  {
   "cell_type": "markdown",
   "metadata": {},
   "source": [
    "# EDA Project: Senior Pet Intakes and Outcomes at Austin Animal Center"
   ]
  },
  {
   "cell_type": "markdown",
   "metadata": {},
   "source": [
    "In this project, I used data from the Austin Animal Center to look at the intakes and outcomes of senior cats and dogs. I also tested a hypothesis that it took longer for senior pets to be adopted than younger pets. I was inspired to look at senior pets in particular since I started following Albert's Dog Lounge, whose mission is to rescuing and providing loving homes to senior, special needs, and hospice dogs."
   ]
  },
  {
   "cell_type": "markdown",
   "metadata": {},
   "source": [
    "To understand the patterns in senior pets intakes and outcomes, I used the animal outcomes and animal intakes datasets from the Austin Animal Center. I chose to use these datasets because of two main reasons: \n",
    "1. The data sets go back to October 2013, providing with me with almost 9 years of data to work with.\n",
    "2. The data sets are publicly available and easy to access, which is quite rare for shelter data to the best of my knowledge.\n",
    "3. Having both intake and outcome data allows me to track an animal's length of stay in the shelter before adoption."
   ]
  },
  {
   "cell_type": "markdown",
   "metadata": {},
   "source": [
    "## Loading, exploring, and cleaning the data"
   ]
  },
  {
   "cell_type": "code",
   "execution_count": 1,
   "metadata": {},
   "outputs": [],
   "source": [
    "# Load packages\n",
    "import pandas as pd\n",
    "import numpy as np"
   ]
  },
  {
   "cell_type": "code",
   "execution_count": 2,
   "metadata": {},
   "outputs": [
    {
     "data": {
      "text/html": [
       "<div>\n",
       "<style scoped>\n",
       "    .dataframe tbody tr th:only-of-type {\n",
       "        vertical-align: middle;\n",
       "    }\n",
       "\n",
       "    .dataframe tbody tr th {\n",
       "        vertical-align: top;\n",
       "    }\n",
       "\n",
       "    .dataframe thead th {\n",
       "        text-align: right;\n",
       "    }\n",
       "</style>\n",
       "<table border=\"1\" class=\"dataframe\">\n",
       "  <thead>\n",
       "    <tr style=\"text-align: right;\">\n",
       "      <th></th>\n",
       "      <th>animal id</th>\n",
       "      <th>name</th>\n",
       "      <th>datetime</th>\n",
       "      <th>monthyear</th>\n",
       "      <th>date of birth</th>\n",
       "      <th>outcome type</th>\n",
       "      <th>outcome subtype</th>\n",
       "      <th>animal type</th>\n",
       "      <th>sex upon outcome</th>\n",
       "      <th>age upon outcome</th>\n",
       "      <th>breed</th>\n",
       "      <th>color</th>\n",
       "    </tr>\n",
       "  </thead>\n",
       "  <tbody>\n",
       "    <tr>\n",
       "      <th>0</th>\n",
       "      <td>A794011</td>\n",
       "      <td>Chunk</td>\n",
       "      <td>05/08/2019 06:20:00 PM</td>\n",
       "      <td>May 2019</td>\n",
       "      <td>05/02/2017</td>\n",
       "      <td>Rto-Adopt</td>\n",
       "      <td>NaN</td>\n",
       "      <td>Cat</td>\n",
       "      <td>Neutered Male</td>\n",
       "      <td>2 years</td>\n",
       "      <td>Domestic Shorthair Mix</td>\n",
       "      <td>Brown Tabby/White</td>\n",
       "    </tr>\n",
       "    <tr>\n",
       "      <th>1</th>\n",
       "      <td>A776359</td>\n",
       "      <td>Gizmo</td>\n",
       "      <td>07/18/2018 04:02:00 PM</td>\n",
       "      <td>Jul 2018</td>\n",
       "      <td>07/12/2017</td>\n",
       "      <td>Adoption</td>\n",
       "      <td>NaN</td>\n",
       "      <td>Dog</td>\n",
       "      <td>Neutered Male</td>\n",
       "      <td>1 year</td>\n",
       "      <td>Chihuahua Shorthair Mix</td>\n",
       "      <td>White/Brown</td>\n",
       "    </tr>\n",
       "    <tr>\n",
       "      <th>2</th>\n",
       "      <td>A821648</td>\n",
       "      <td>NaN</td>\n",
       "      <td>08/16/2020 11:38:00 AM</td>\n",
       "      <td>Aug 2020</td>\n",
       "      <td>08/16/2019</td>\n",
       "      <td>Euthanasia</td>\n",
       "      <td>NaN</td>\n",
       "      <td>Other</td>\n",
       "      <td>Unknown</td>\n",
       "      <td>1 year</td>\n",
       "      <td>Raccoon</td>\n",
       "      <td>Gray</td>\n",
       "    </tr>\n",
       "    <tr>\n",
       "      <th>3</th>\n",
       "      <td>A720371</td>\n",
       "      <td>Moose</td>\n",
       "      <td>02/13/2016 05:59:00 PM</td>\n",
       "      <td>Feb 2016</td>\n",
       "      <td>10/08/2015</td>\n",
       "      <td>Adoption</td>\n",
       "      <td>NaN</td>\n",
       "      <td>Dog</td>\n",
       "      <td>Neutered Male</td>\n",
       "      <td>4 months</td>\n",
       "      <td>Anatol Shepherd/Labrador Retriever</td>\n",
       "      <td>Buff</td>\n",
       "    </tr>\n",
       "    <tr>\n",
       "      <th>4</th>\n",
       "      <td>A674754</td>\n",
       "      <td>NaN</td>\n",
       "      <td>03/18/2014 11:47:00 AM</td>\n",
       "      <td>Mar 2014</td>\n",
       "      <td>03/12/2014</td>\n",
       "      <td>Transfer</td>\n",
       "      <td>Partner</td>\n",
       "      <td>Cat</td>\n",
       "      <td>Intact Male</td>\n",
       "      <td>6 days</td>\n",
       "      <td>Domestic Shorthair Mix</td>\n",
       "      <td>Orange Tabby</td>\n",
       "    </tr>\n",
       "  </tbody>\n",
       "</table>\n",
       "</div>"
      ],
      "text/plain": [
       "  animal id   name                datetime monthyear date of birth  \\\n",
       "0   A794011  Chunk  05/08/2019 06:20:00 PM  May 2019    05/02/2017   \n",
       "1   A776359  Gizmo  07/18/2018 04:02:00 PM  Jul 2018    07/12/2017   \n",
       "2   A821648    NaN  08/16/2020 11:38:00 AM  Aug 2020    08/16/2019   \n",
       "3   A720371  Moose  02/13/2016 05:59:00 PM  Feb 2016    10/08/2015   \n",
       "4   A674754    NaN  03/18/2014 11:47:00 AM  Mar 2014    03/12/2014   \n",
       "\n",
       "  outcome type outcome subtype animal type sex upon outcome age upon outcome  \\\n",
       "0    Rto-Adopt             NaN         Cat    Neutered Male          2 years   \n",
       "1     Adoption             NaN         Dog    Neutered Male           1 year   \n",
       "2   Euthanasia             NaN       Other          Unknown           1 year   \n",
       "3     Adoption             NaN         Dog    Neutered Male         4 months   \n",
       "4     Transfer         Partner         Cat      Intact Male           6 days   \n",
       "\n",
       "                                breed              color  \n",
       "0              Domestic Shorthair Mix  Brown Tabby/White  \n",
       "1             Chihuahua Shorthair Mix        White/Brown  \n",
       "2                             Raccoon               Gray  \n",
       "3  Anatol Shepherd/Labrador Retriever               Buff  \n",
       "4              Domestic Shorthair Mix       Orange Tabby  "
      ]
     },
     "execution_count": 2,
     "metadata": {},
     "output_type": "execute_result"
    }
   ],
   "source": [
    "# Read in the csv files\n",
    "raw_outcomes = pd.read_csv(\"raw_outcomes.csv\")\n",
    "raw_outcomes.columns = raw_outcomes.columns.str.lower()\n",
    "raw_outcomes.head()"
   ]
  },
  {
   "cell_type": "code",
   "execution_count": 3,
   "metadata": {},
   "outputs": [
    {
     "data": {
      "text/html": [
       "<div>\n",
       "<style scoped>\n",
       "    .dataframe tbody tr th:only-of-type {\n",
       "        vertical-align: middle;\n",
       "    }\n",
       "\n",
       "    .dataframe tbody tr th {\n",
       "        vertical-align: top;\n",
       "    }\n",
       "\n",
       "    .dataframe thead th {\n",
       "        text-align: right;\n",
       "    }\n",
       "</style>\n",
       "<table border=\"1\" class=\"dataframe\">\n",
       "  <thead>\n",
       "    <tr style=\"text-align: right;\">\n",
       "      <th></th>\n",
       "      <th>animal id</th>\n",
       "      <th>name</th>\n",
       "      <th>datetime</th>\n",
       "      <th>monthyear</th>\n",
       "      <th>found location</th>\n",
       "      <th>intake type</th>\n",
       "      <th>intake condition</th>\n",
       "      <th>animal type</th>\n",
       "      <th>sex upon intake</th>\n",
       "      <th>age upon intake</th>\n",
       "      <th>breed</th>\n",
       "      <th>color</th>\n",
       "    </tr>\n",
       "  </thead>\n",
       "  <tbody>\n",
       "    <tr>\n",
       "      <th>0</th>\n",
       "      <td>A786884</td>\n",
       "      <td>*Brock</td>\n",
       "      <td>01/03/2019 04:19:00 PM</td>\n",
       "      <td>January 2019</td>\n",
       "      <td>2501 Magin Meadow Dr in Austin (TX)</td>\n",
       "      <td>Stray</td>\n",
       "      <td>Normal</td>\n",
       "      <td>Dog</td>\n",
       "      <td>Neutered Male</td>\n",
       "      <td>2 years</td>\n",
       "      <td>Beagle Mix</td>\n",
       "      <td>Tricolor</td>\n",
       "    </tr>\n",
       "    <tr>\n",
       "      <th>1</th>\n",
       "      <td>A706918</td>\n",
       "      <td>Belle</td>\n",
       "      <td>07/05/2015 12:59:00 PM</td>\n",
       "      <td>July 2015</td>\n",
       "      <td>9409 Bluegrass Dr in Austin (TX)</td>\n",
       "      <td>Stray</td>\n",
       "      <td>Normal</td>\n",
       "      <td>Dog</td>\n",
       "      <td>Spayed Female</td>\n",
       "      <td>8 years</td>\n",
       "      <td>English Springer Spaniel</td>\n",
       "      <td>White/Liver</td>\n",
       "    </tr>\n",
       "    <tr>\n",
       "      <th>2</th>\n",
       "      <td>A724273</td>\n",
       "      <td>Runster</td>\n",
       "      <td>04/14/2016 06:43:00 PM</td>\n",
       "      <td>April 2016</td>\n",
       "      <td>2818 Palomino Trail in Austin (TX)</td>\n",
       "      <td>Stray</td>\n",
       "      <td>Normal</td>\n",
       "      <td>Dog</td>\n",
       "      <td>Intact Male</td>\n",
       "      <td>11 months</td>\n",
       "      <td>Basenji Mix</td>\n",
       "      <td>Sable/White</td>\n",
       "    </tr>\n",
       "    <tr>\n",
       "      <th>3</th>\n",
       "      <td>A665644</td>\n",
       "      <td>NaN</td>\n",
       "      <td>10/21/2013 07:59:00 AM</td>\n",
       "      <td>October 2013</td>\n",
       "      <td>Austin (TX)</td>\n",
       "      <td>Stray</td>\n",
       "      <td>Sick</td>\n",
       "      <td>Cat</td>\n",
       "      <td>Intact Female</td>\n",
       "      <td>4 weeks</td>\n",
       "      <td>Domestic Shorthair Mix</td>\n",
       "      <td>Calico</td>\n",
       "    </tr>\n",
       "    <tr>\n",
       "      <th>4</th>\n",
       "      <td>A682524</td>\n",
       "      <td>Rio</td>\n",
       "      <td>06/29/2014 10:38:00 AM</td>\n",
       "      <td>June 2014</td>\n",
       "      <td>800 Grove Blvd in Austin (TX)</td>\n",
       "      <td>Stray</td>\n",
       "      <td>Normal</td>\n",
       "      <td>Dog</td>\n",
       "      <td>Neutered Male</td>\n",
       "      <td>4 years</td>\n",
       "      <td>Doberman Pinsch/Australian Cattle Dog</td>\n",
       "      <td>Tan/Gray</td>\n",
       "    </tr>\n",
       "  </tbody>\n",
       "</table>\n",
       "</div>"
      ],
      "text/plain": [
       "  animal id     name                datetime     monthyear  \\\n",
       "0   A786884   *Brock  01/03/2019 04:19:00 PM  January 2019   \n",
       "1   A706918    Belle  07/05/2015 12:59:00 PM     July 2015   \n",
       "2   A724273  Runster  04/14/2016 06:43:00 PM    April 2016   \n",
       "3   A665644      NaN  10/21/2013 07:59:00 AM  October 2013   \n",
       "4   A682524      Rio  06/29/2014 10:38:00 AM     June 2014   \n",
       "\n",
       "                        found location intake type intake condition  \\\n",
       "0  2501 Magin Meadow Dr in Austin (TX)       Stray           Normal   \n",
       "1     9409 Bluegrass Dr in Austin (TX)       Stray           Normal   \n",
       "2   2818 Palomino Trail in Austin (TX)       Stray           Normal   \n",
       "3                          Austin (TX)       Stray             Sick   \n",
       "4        800 Grove Blvd in Austin (TX)       Stray           Normal   \n",
       "\n",
       "  animal type sex upon intake age upon intake  \\\n",
       "0         Dog   Neutered Male         2 years   \n",
       "1         Dog   Spayed Female         8 years   \n",
       "2         Dog     Intact Male       11 months   \n",
       "3         Cat   Intact Female         4 weeks   \n",
       "4         Dog   Neutered Male         4 years   \n",
       "\n",
       "                                   breed        color  \n",
       "0                             Beagle Mix     Tricolor  \n",
       "1               English Springer Spaniel  White/Liver  \n",
       "2                            Basenji Mix  Sable/White  \n",
       "3                 Domestic Shorthair Mix       Calico  \n",
       "4  Doberman Pinsch/Australian Cattle Dog     Tan/Gray  "
      ]
     },
     "execution_count": 3,
     "metadata": {},
     "output_type": "execute_result"
    }
   ],
   "source": [
    "raw_intakes = pd.read_csv(\"raw_intakes.csv\")\n",
    "raw_intakes.columns = raw_intakes.columns.str.lower()\n",
    "raw_intakes.head()"
   ]
  },
  {
   "cell_type": "markdown",
   "metadata": {},
   "source": [
    "In each data set, each row represents the status of an animal as it enters (intake data) or exits (outcome data) the shelter. You can see the first few rows of the data as above."
   ]
  },
  {
   "cell_type": "code",
   "execution_count": 4,
   "metadata": {},
   "outputs": [
    {
     "data": {
      "text/plain": [
       "Dog          77298\n",
       "Cat          51836\n",
       "Other         7271\n",
       "Bird           653\n",
       "Livestock       24\n",
       "Name: animal type, dtype: int64"
      ]
     },
     "execution_count": 4,
     "metadata": {},
     "output_type": "execute_result"
    }
   ],
   "source": [
    "raw_intakes[\"animal type\"].value_counts()"
   ]
  },
  {
   "cell_type": "code",
   "execution_count": 5,
   "metadata": {},
   "outputs": [
    {
     "data": {
      "text/plain": [
       "Dog          77271\n",
       "Cat          52161\n",
       "Other         7273\n",
       "Bird           653\n",
       "Livestock       25\n",
       "Name: animal type, dtype: int64"
      ]
     },
     "execution_count": 5,
     "metadata": {},
     "output_type": "execute_result"
    }
   ],
   "source": [
    "raw_outcomes[\"animal type\"].value_counts()"
   ]
  },
  {
   "cell_type": "markdown",
   "metadata": {},
   "source": [
    "From this point on, I will focus the analysis on dogs and cats for two reasons. First, these two animal types make up the majority of the data as can be seen above. Second, my goal is to classify animals into young, adult and senior age groups. It is more convenient to focus on dogs and cats in this case because definitions for senior for these two animal types are easier to find."
   ]
  },
  {
   "cell_type": "code",
   "execution_count": 6,
   "metadata": {},
   "outputs": [
    {
     "name": "stdout",
     "output_type": "stream",
     "text": [
      "(129432, 12)\n",
      "(129134, 12)\n"
     ]
    }
   ],
   "source": [
    "# Focus on dogs and cats only for easier age group classifications \n",
    "sample_outcomes = raw_outcomes[(raw_outcomes[\"animal type\"] == \"Dog\") | (raw_outcomes[\"animal type\"] == \"Cat\")].copy()\n",
    "sample_intakes = raw_intakes[(raw_intakes[\"animal type\"] == \"Dog\") | (raw_intakes[\"animal type\"] == \"Cat\")].copy()\n",
    "\n",
    "print(sample_outcomes.shape)\n",
    "print(sample_intakes.shape)"
   ]
  },
  {
   "cell_type": "markdown",
   "metadata": {},
   "source": [
    "**Age group classification**"
   ]
  },
  {
   "cell_type": "markdown",
   "metadata": {},
   "source": [
    "First, let's look at the ``age upon outcome`` and ``age upon intake`` columns to see how the age of the animals is reported."
   ]
  },
  {
   "cell_type": "code",
   "execution_count": 7,
   "metadata": {},
   "outputs": [
    {
     "data": {
      "text/plain": [
       "1 year       20292\n",
       "2 years      19407\n",
       "2 months     17033\n",
       "3 years       7783\n",
       "3 months      6599\n",
       "1 month       5858\n",
       "4 years       4685\n",
       "4 months      4431\n",
       "5 years       4372\n",
       "5 months      3189\n",
       "6 years       2909\n",
       "6 months      2892\n",
       "8 years       2546\n",
       "7 years       2521\n",
       "3 weeks       2298\n",
       "2 weeks       2223\n",
       "8 months      2114\n",
       "10 years      2041\n",
       "10 months     1973\n",
       "7 months      1720\n",
       "4 weeks       1580\n",
       "9 years       1407\n",
       "9 months      1377\n",
       "12 years       993\n",
       "1 weeks        959\n",
       "11 months      865\n",
       "11 years       802\n",
       "1 week         717\n",
       "13 years       655\n",
       "14 years       441\n",
       "3 days         394\n",
       "15 years       369\n",
       "2 days         359\n",
       "1 day          293\n",
       "6 days         250\n",
       "4 days         231\n",
       "0 years        178\n",
       "16 years       163\n",
       "5 days         152\n",
       "5 weeks        149\n",
       "17 years        92\n",
       "18 years        53\n",
       "19 years        27\n",
       "20 years        19\n",
       "-1 years         6\n",
       "22 years         6\n",
       "NaN              5\n",
       "-3 years         1\n",
       "24 years         1\n",
       "23 years         1\n",
       "-2 years         1\n",
       "Name: age upon outcome, dtype: int64"
      ]
     },
     "execution_count": 7,
     "metadata": {},
     "output_type": "execute_result"
    }
   ],
   "source": [
    "# Unique values of age_upon_outcome field\n",
    "sample_outcomes[\"age upon outcome\"].value_counts(dropna=False)"
   ]
  },
  {
   "cell_type": "code",
   "execution_count": 8,
   "metadata": {},
   "outputs": [
    {
     "data": {
      "text/plain": [
       "1 year       19960\n",
       "2 years      19436\n",
       "1 month      13386\n",
       "3 years       7650\n",
       "2 months      7581\n",
       "4 years       4713\n",
       "4 weeks       4570\n",
       "5 years       4312\n",
       "3 weeks       3954\n",
       "3 months      3600\n",
       "4 months      3514\n",
       "5 months      3032\n",
       "6 years       2900\n",
       "2 weeks       2757\n",
       "7 years       2511\n",
       "8 years       2440\n",
       "6 months      2374\n",
       "9 months      2000\n",
       "7 months      1985\n",
       "10 years      1959\n",
       "8 months      1595\n",
       "9 years       1428\n",
       "10 months     1111\n",
       "1 week        1099\n",
       "1 weeks       1001\n",
       "12 years       951\n",
       "11 months      858\n",
       "0 years        812\n",
       "11 years       798\n",
       "1 day          688\n",
       "3 days         647\n",
       "13 years       624\n",
       "2 days         536\n",
       "14 years       434\n",
       "15 years       365\n",
       "6 days         350\n",
       "5 weeks        338\n",
       "4 days         324\n",
       "5 days         182\n",
       "16 years       158\n",
       "17 years        88\n",
       "18 years        51\n",
       "19 years        27\n",
       "20 years        19\n",
       "-1 years         6\n",
       "22 years         6\n",
       "-3 years         1\n",
       "24 years         1\n",
       "23 years         1\n",
       "-2 years         1\n",
       "Name: age upon intake, dtype: int64"
      ]
     },
     "execution_count": 8,
     "metadata": {},
     "output_type": "execute_result"
    }
   ],
   "source": [
    "sample_intakes[\"age upon intake\"].value_counts()"
   ]
  },
  {
   "cell_type": "markdown",
   "metadata": {},
   "source": [
    "First, there are 5 missing values in ``age upon outcome``. Let's take a quick look at the entries with these missing values."
   ]
  },
  {
   "cell_type": "code",
   "execution_count": 9,
   "metadata": {
    "scrolled": true
   },
   "outputs": [
    {
     "data": {
      "text/html": [
       "<div>\n",
       "<style scoped>\n",
       "    .dataframe tbody tr th:only-of-type {\n",
       "        vertical-align: middle;\n",
       "    }\n",
       "\n",
       "    .dataframe tbody tr th {\n",
       "        vertical-align: top;\n",
       "    }\n",
       "\n",
       "    .dataframe thead th {\n",
       "        text-align: right;\n",
       "    }\n",
       "</style>\n",
       "<table border=\"1\" class=\"dataframe\">\n",
       "  <thead>\n",
       "    <tr style=\"text-align: right;\">\n",
       "      <th></th>\n",
       "      <th>animal id</th>\n",
       "      <th>name</th>\n",
       "      <th>datetime</th>\n",
       "      <th>monthyear</th>\n",
       "      <th>date of birth</th>\n",
       "      <th>outcome type</th>\n",
       "      <th>outcome subtype</th>\n",
       "      <th>animal type</th>\n",
       "      <th>sex upon outcome</th>\n",
       "      <th>age upon outcome</th>\n",
       "      <th>breed</th>\n",
       "      <th>color</th>\n",
       "    </tr>\n",
       "  </thead>\n",
       "  <tbody>\n",
       "    <tr>\n",
       "      <th>135818</th>\n",
       "      <td>A850137</td>\n",
       "      <td>A850137</td>\n",
       "      <td>01/19/2022 05:37:00 PM</td>\n",
       "      <td>Jan 2022</td>\n",
       "      <td>01/19/2018</td>\n",
       "      <td>Euthanasia</td>\n",
       "      <td>Suffering</td>\n",
       "      <td>Cat</td>\n",
       "      <td>Spayed Female</td>\n",
       "      <td>NaN</td>\n",
       "      <td>Domestic Medium Hair</td>\n",
       "      <td>Blue</td>\n",
       "    </tr>\n",
       "    <tr>\n",
       "      <th>136916</th>\n",
       "      <td>A849335</td>\n",
       "      <td>*Pancho</td>\n",
       "      <td>01/17/2022 02:23:00 PM</td>\n",
       "      <td>Jan 2022</td>\n",
       "      <td>08/06/2021</td>\n",
       "      <td>NaN</td>\n",
       "      <td>NaN</td>\n",
       "      <td>Dog</td>\n",
       "      <td>NaN</td>\n",
       "      <td>NaN</td>\n",
       "      <td>Border Collie</td>\n",
       "      <td>Black/White</td>\n",
       "    </tr>\n",
       "    <tr>\n",
       "      <th>137086</th>\n",
       "      <td>A852234</td>\n",
       "      <td>NaN</td>\n",
       "      <td>03/01/2022 01:54:00 PM</td>\n",
       "      <td>Mar 2022</td>\n",
       "      <td>02/28/2020</td>\n",
       "      <td>Euthanasia</td>\n",
       "      <td>Suffering</td>\n",
       "      <td>Cat</td>\n",
       "      <td>Intact Female</td>\n",
       "      <td>NaN</td>\n",
       "      <td>Domestic Shorthair</td>\n",
       "      <td>Calico</td>\n",
       "    </tr>\n",
       "    <tr>\n",
       "      <th>137194</th>\n",
       "      <td>A852514</td>\n",
       "      <td>NaN</td>\n",
       "      <td>03/04/2022 12:19:00 PM</td>\n",
       "      <td>Mar 2022</td>\n",
       "      <td>03/04/2020</td>\n",
       "      <td>Euthanasia</td>\n",
       "      <td>Suffering</td>\n",
       "      <td>Cat</td>\n",
       "      <td>Unknown</td>\n",
       "      <td>NaN</td>\n",
       "      <td>Domestic Shorthair</td>\n",
       "      <td>Brown Tabby</td>\n",
       "    </tr>\n",
       "    <tr>\n",
       "      <th>137352</th>\n",
       "      <td>A852420</td>\n",
       "      <td>A852420</td>\n",
       "      <td>03/09/2022 03:29:00 PM</td>\n",
       "      <td>Mar 2022</td>\n",
       "      <td>01/21/2022</td>\n",
       "      <td>Transfer</td>\n",
       "      <td>Partner</td>\n",
       "      <td>Dog</td>\n",
       "      <td>Intact Male</td>\n",
       "      <td>NaN</td>\n",
       "      <td>Miniature Schnauzer</td>\n",
       "      <td>Black/Gray</td>\n",
       "    </tr>\n",
       "  </tbody>\n",
       "</table>\n",
       "</div>"
      ],
      "text/plain": [
       "       animal id     name                datetime monthyear date of birth  \\\n",
       "135818   A850137  A850137  01/19/2022 05:37:00 PM  Jan 2022    01/19/2018   \n",
       "136916   A849335  *Pancho  01/17/2022 02:23:00 PM  Jan 2022    08/06/2021   \n",
       "137086   A852234      NaN  03/01/2022 01:54:00 PM  Mar 2022    02/28/2020   \n",
       "137194   A852514      NaN  03/04/2022 12:19:00 PM  Mar 2022    03/04/2020   \n",
       "137352   A852420  A852420  03/09/2022 03:29:00 PM  Mar 2022    01/21/2022   \n",
       "\n",
       "       outcome type outcome subtype animal type sex upon outcome  \\\n",
       "135818   Euthanasia       Suffering         Cat    Spayed Female   \n",
       "136916          NaN             NaN         Dog              NaN   \n",
       "137086   Euthanasia       Suffering         Cat    Intact Female   \n",
       "137194   Euthanasia       Suffering         Cat          Unknown   \n",
       "137352     Transfer         Partner         Dog      Intact Male   \n",
       "\n",
       "       age upon outcome                 breed        color  \n",
       "135818              NaN  Domestic Medium Hair         Blue  \n",
       "136916              NaN         Border Collie  Black/White  \n",
       "137086              NaN    Domestic Shorthair       Calico  \n",
       "137194              NaN    Domestic Shorthair  Brown Tabby  \n",
       "137352              NaN   Miniature Schnauzer   Black/Gray  "
      ]
     },
     "execution_count": 9,
     "metadata": {},
     "output_type": "execute_result"
    }
   ],
   "source": [
    "sample_outcomes[sample_outcomes[\"age upon outcome\"].isna()]"
   ]
  },
  {
   "cell_type": "markdown",
   "metadata": {},
   "source": [
    "As you can see, these 5 entries with missing values for ``age upon outcome`` document outcomes that happened pretty recently, i.e: between Jan and March of 2022. Even though the ``age upon outcome`` are missing, we can deduce these values by subtracting ``date of birth`` from ``datetime`` (i.e: the date of the outcome). First, let's convert these two fields to datetime objects, and then calculate the age of the animals at the date of the outcome in years."
   ]
  },
  {
   "cell_type": "code",
   "execution_count": 10,
   "metadata": {},
   "outputs": [],
   "source": [
    "# Convert to datetime values ``date of birth`` and ``datetime`` in the sample_outcomes data \n",
    "sample_outcomes[\"datetime\"] = pd.to_datetime(sample_outcomes[\"datetime\"])\n",
    "sample_outcomes[\"date of birth\"] = pd.to_datetime(sample_outcomes[\"date of birth\"])\n",
    "\n",
    "# Calculate the age in years for the missing ``age upon outcome`` rows.\n",
    "    # Divided by 365 to convert the age in days to age in years.\n",
    "    # astyp(\"str\") to facilitate the clean_cols help function below\n",
    "sample_outcomes.loc[sample_outcomes[\"age upon outcome\"].isna(), \"age upon outcome\"] = ((sample_outcomes[\"datetime\"]\n",
    "                                                                                      - sample_outcomes[\"date of birth\"])\n",
    "                                                                                       .dt.days / 365).astype(\"str\")"
   ]
  },
  {
   "cell_type": "markdown",
   "metadata": {},
   "source": [
    "The ``age upon intake`` and ``age upon outcome`` are currently in the unit of years, months, weeks or days. To ease classifying ages into different groups, I convert all the ages in months, weeks and days to ages in years since the most common definitions of senior ages in dogs and cats are based on this unit. For example, age of 5 weeks will be converted to 0 years, and that animal will be considered as young. In the next block of code, I clean up the age fields to make sure they are of the same unit and format. This will facilitate my categorization of animals into age groups later."
   ]
  },
  {
   "cell_type": "code",
   "execution_count": 11,
   "metadata": {},
   "outputs": [],
   "source": [
    "# Helper functions to clean age values\n",
    "def clean_cols(data, col):\n",
    "    ''' Clean out the age columns in animals' intake and outcome data\n",
    "        Args:\n",
    "        ------------------\n",
    "        dataframe and column          \n",
    "    '''\n",
    "    # Delete \"-\" in front of some age values.\n",
    "    data[col] = data[col].str.replace(\"-\", \"\") \n",
    "    \n",
    "    # Extract age number and put it in a separate column.\n",
    "    data[\"age_number\"] = data[col].str.split().str[0].astype(float) # str[0] is to keep only the age number, not age unit.\n",
    "    \n",
    "    # Convert age in months, weeks and days to 0 age in years.\n",
    "        # Other entries without \"month|week|day\" - the age number stays the same as recorded.\n",
    "    data.loc[data[col].str.contains(\"month|week|day\", regex=True), \"age_number\"] = 0"
   ]
  },
  {
   "cell_type": "code",
   "execution_count": 12,
   "metadata": {
    "scrolled": true
   },
   "outputs": [],
   "source": [
    "# Clean age values for sample_outcomes and sample_intakes\n",
    "clean_cols(sample_outcomes, \"age upon outcome\")\n",
    "clean_cols(sample_intakes, \"age upon intake\")"
   ]
  },
  {
   "cell_type": "markdown",
   "metadata": {},
   "source": [
    "Now with the ``age_number`` column contains the animal's ages in years, I can classify them into different age groups. The most common definitions for senior cats and dogs are:\n",
    "1. Cats older than 10 years old are normally considered senior.\n",
    "2. Dogs older than 7 years old are normally considered senior.<br>\n",
    "\n",
    "Other animals younger than those ages are considered to be in young-adult age group."
   ]
  },
  {
   "cell_type": "code",
   "execution_count": 13,
   "metadata": {},
   "outputs": [],
   "source": [
    "# Helper function to classify into age groups\n",
    "def classify_age(data, col):\n",
    "    ''' Classify animals into age groups based on species\n",
    "        Args:\n",
    "        ---------------------------------\n",
    "        dataframe and column name (string)\n",
    "    '''\n",
    "    # Age group classification for cats\n",
    "    data.loc[data[\"animal type\"] == \"Cat\", \"age_group\"] = pd.cut(data[col],\n",
    "                                                                bins = [0, 11, 99],\n",
    "                                                                right = False,\n",
    "                                                                labels = [\"young-adult\", \"senior\"],\n",
    "                                                                include_lowest = True)\n",
    "    \n",
    "    # Age group classification for dogs\n",
    "    data.loc[data[\"animal type\"] == \"Dog\", \"age_group\"] = pd.cut(data[col],\n",
    "                                                                bins = [0, 8, 99],\n",
    "                                                                right = False, \n",
    "                                                                labels = [\"young-adult\", \"senior\"],\n",
    "                                                                include_lowest = True)"
   ]
  },
  {
   "cell_type": "code",
   "execution_count": 14,
   "metadata": {},
   "outputs": [],
   "source": [
    "# Classify into different age categories for intake data\n",
    "classify_age(sample_intakes, \"age_number\")\n",
    "\n",
    "# For outcome data\n",
    "classify_age(sample_outcomes, \"age_number\")"
   ]
  },
  {
   "cell_type": "code",
   "execution_count": 15,
   "metadata": {},
   "outputs": [
    {
     "data": {
      "text/html": [
       "<div>\n",
       "<style scoped>\n",
       "    .dataframe tbody tr th:only-of-type {\n",
       "        vertical-align: middle;\n",
       "    }\n",
       "\n",
       "    .dataframe tbody tr th {\n",
       "        vertical-align: top;\n",
       "    }\n",
       "\n",
       "    .dataframe thead th {\n",
       "        text-align: right;\n",
       "    }\n",
       "</style>\n",
       "<table border=\"1\" class=\"dataframe\">\n",
       "  <thead>\n",
       "    <tr style=\"text-align: right;\">\n",
       "      <th></th>\n",
       "      <th>counts</th>\n",
       "      <th>percentage</th>\n",
       "    </tr>\n",
       "  </thead>\n",
       "  <tbody>\n",
       "    <tr>\n",
       "      <th>young-adult</th>\n",
       "      <td>121299</td>\n",
       "      <td>93.932659</td>\n",
       "    </tr>\n",
       "    <tr>\n",
       "      <th>senior</th>\n",
       "      <td>7835</td>\n",
       "      <td>6.067341</td>\n",
       "    </tr>\n",
       "  </tbody>\n",
       "</table>\n",
       "</div>"
      ],
      "text/plain": [
       "             counts  percentage\n",
       "young-adult  121299   93.932659\n",
       "senior         7835    6.067341"
      ]
     },
     "execution_count": 15,
     "metadata": {},
     "output_type": "execute_result"
    }
   ],
   "source": [
    "# Create a table to show senior animals as a percentage of all intakes\n",
    "intake_by_age = sample_intakes[\"age_group\"].value_counts(dropna=False).to_frame()\n",
    "intake_by_age.columns = [\"counts\"]\n",
    "intake_by_age[\"percentage\"] = intake_by_age[\"counts\"] / len(sample_intakes.index) * 100\n",
    "intake_by_age.head()"
   ]
  },
  {
   "cell_type": "code",
   "execution_count": 16,
   "metadata": {},
   "outputs": [
    {
     "data": {
      "text/plain": [
       "Text(0.5, 0.98, 'Senior animals make up only 10% of all intakes since October 2013')"
      ]
     },
     "execution_count": 16,
     "metadata": {},
     "output_type": "execute_result"
    },
    {
     "data": {
      "image/png": "[encoded data removed]",
      "text/plain": [
       "<Figure size 432x288 with 1 Axes>"
      ]
     },
     "metadata": {},
     "output_type": "display_data"
    }
   ],
   "source": [
    "# Pie chart representation \n",
    "import matplotlib.pyplot as plt\n",
    "%matplotlib inline\n",
    "\n",
    "intake_by_age.plot(kind=\"pie\", y=\"percentage\", ylabel=\"\",\n",
    "                  labels=[\"young and adult\", \"senior\"],\n",
    "                   autopct = \"%1.1f%%\", legend=False)\n",
    "\n",
    "plt.suptitle(\"Senior animals make up only 10% of all intakes since October 2013\")"
   ]
  },
  {
   "cell_type": "markdown",
   "metadata": {},
   "source": [
    "Now, let's look a little closer at the outcomes of senior animals at the time they exit the shelter."
   ]
  },
  {
   "cell_type": "code",
   "execution_count": 17,
   "metadata": {},
   "outputs": [],
   "source": [
    "# Focus on outcomes of senior animals only\n",
    "senior_outcomes = sample_outcomes[sample_outcomes[\"age_group\"] == \"senior\"].copy()"
   ]
  },
  {
   "cell_type": "code",
   "execution_count": 18,
   "metadata": {},
   "outputs": [],
   "source": [
    "# Look at the outcomes of these senior animals by percentage\n",
    "senior_outcomes_freq = senior_outcomes[\"outcome type\"].value_counts(dropna=False).to_frame()\n",
    "senior_outcomes_freq.columns = [\"counts\"]\n",
    "senior_outcomes_freq[\"percentage\"] = senior_outcomes_freq[\"counts\"] / len(senior_outcomes.index) * 100\n",
    "senior_outcomes_sorted = senior_outcomes_freq.sort_values(\"percentage\")"
   ]
  },
  {
   "cell_type": "code",
   "execution_count": 19,
   "metadata": {
    "scrolled": true
   },
   "outputs": [
    {
     "data": {
      "image/png": "[encoded data removed]",
      "text/plain": [
       "<Figure size 432x288 with 1 Axes>"
      ]
     },
     "metadata": {
      "needs_background": "light"
     },
     "output_type": "display_data"
    }
   ],
   "source": [
    "# Pie chart for the outcomes of senior animals. \n",
    "ax = senior_outcomes_sorted.plot.barh(y=\"percentage\", legend=False)\n",
    "\n",
    "plt.suptitle(\"90% of senior animals have been returned to owner, transferred, or adopted.\")\n",
    "plt.xlabel(\"Percentage of senior animals with a particular outcome\")\n",
    "ax.bar_label(ax.containers[0], fmt=\"%.1f\")\n",
    "ax.spines[\"top\"].set_visible(False)\n",
    "ax.spines[\"right\"].set_visible(False)"
   ]
  },
  {
   "cell_type": "markdown",
   "metadata": {},
   "source": [
    "My conclusions so far are:\n",
    "1. Senior animals make up only a small percentage of all animals intakes at the Austin Animal Shelter since October 2013.\n",
    "2. The majority of them have exited the shelter with a good outcome. That is, as of the time of this report in March 2022, they have been either been returned to owner (43%), adopted (28%), or transferred to a partner organization (19%). About 7.7% of all senior animals have been euthanized since October 2013."
   ]
  },
  {
   "cell_type": "markdown",
   "metadata": {},
   "source": [
    "## Does it take longer for senior animals to be adopted than younger animals?"
   ]
  },
  {
   "cell_type": "markdown",
   "metadata": {},
   "source": [
    "To answer this question requires computing the amount of time an animal stayed in the shelter until it got adopted. Here is the breakdown of the steps I will be taking to do this.\n",
    "1. Convert the intake date field ``datetime`` to datetime object in pandas. The outcome date field has already been converted in a step above.\n",
    "2. Merge the intake data and adoption outcome data to allow connecting an animal from intake to adoption outcome, and make sure the merges are valid (i.e: the intake date should be before the outcome date).\n",
    "3. Compute the amount of time an animal stayed in the shelter as defined by the number of days between intake and adoption.\n",
    "4. Using scipy package to test for statistically significant differences in the length of stay of senior animals and of younger animals."
   ]
  },
  {
   "cell_type": "code",
   "execution_count": 20,
   "metadata": {},
   "outputs": [
    {
     "name": "stdout",
     "output_type": "stream",
     "text": [
      "<class 'pandas.core.frame.DataFrame'>\n",
      "Int64Index: 129134 entries, 0 to 137081\n",
      "Data columns (total 15 columns):\n",
      " #   Column            Non-Null Count   Dtype         \n",
      "---  ------            --------------   -----         \n",
      " 0   animal id         129134 non-null  object        \n",
      " 1   name              94836 non-null   object        \n",
      " 2   datetime          129134 non-null  datetime64[ns]\n",
      " 3   monthyear         129134 non-null  object        \n",
      " 4   found location    129134 non-null  object        \n",
      " 5   intake type       129134 non-null  object        \n",
      " 6   intake condition  129134 non-null  object        \n",
      " 7   animal type       129134 non-null  object        \n",
      " 8   sex upon intake   129133 non-null  object        \n",
      " 9   age upon intake   129134 non-null  object        \n",
      " 10  breed             129134 non-null  object        \n",
      " 11  color             129134 non-null  object        \n",
      " 12  age_number        129134 non-null  float64       \n",
      " 13  age_group         129134 non-null  object        \n",
      " 14  year              129134 non-null  int64         \n",
      "dtypes: datetime64[ns](1), float64(1), int64(1), object(12)\n",
      "memory usage: 20.8+ MB\n"
     ]
    }
   ],
   "source": [
    "# Convert the intake date field to datetime objects\n",
    "sample_intakes[\"datetime\"] = pd.to_datetime(sample_intakes[\"datetime\"])\n",
    "sample_intakes[\"year\"] = sample_intakes[\"datetime\"].dt.year\n",
    "sample_intakes.info()"
   ]
  },
  {
   "cell_type": "code",
   "execution_count": 21,
   "metadata": {},
   "outputs": [],
   "source": [
    "# Merge the intake data and adoption outcome data to allow connecting an animal from intake to adoption outcome.\n",
    "merged_df = pd.merge(sample_intakes, sample_outcomes,\n",
    "                    how = \"left\",\n",
    "                    on = \"animal id\",\n",
    "                    suffixes = [\"_intake\", \"_outcome\"],\n",
    "                    indicator = True)"
   ]
  },
  {
   "cell_type": "code",
   "execution_count": 22,
   "metadata": {},
   "outputs": [
    {
     "data": {
      "text/plain": [
       "Index(['animal id', 'name_intake', 'datetime_intake', 'monthyear_intake',\n",
       "       'found location', 'intake type', 'intake condition',\n",
       "       'animal type_intake', 'sex upon intake', 'age upon intake',\n",
       "       'breed_intake', 'color_intake', 'age_number_intake', 'age_group_intake',\n",
       "       'year', 'name_outcome', 'datetime_outcome', 'monthyear_outcome',\n",
       "       'date of birth', 'outcome type', 'outcome subtype',\n",
       "       'animal type_outcome', 'sex upon outcome', 'age upon outcome',\n",
       "       'breed_outcome', 'color_outcome', 'age_number_outcome',\n",
       "       'age_group_outcome', '_merge'],\n",
       "      dtype='object')"
      ]
     },
     "execution_count": 22,
     "metadata": {},
     "output_type": "execute_result"
    }
   ],
   "source": [
    "merged_df.columns"
   ]
  },
  {
   "cell_type": "code",
   "execution_count": 23,
   "metadata": {},
   "outputs": [],
   "source": [
    "# Clean up columns of the merged dataframe. \n",
    "merged_df.drop(columns=[\"name_outcome\", \"animal type_outcome\", \n",
    "                        \"sex upon outcome\", \"breed_outcome\", \"color_outcome\"],\n",
    "              axis=1, inplace=True)\n",
    "\n",
    "merged_df.rename(columns={\"name_intake\":\"name\", \"animal type_intake\":\"animal type\",\n",
    "                         \"sex upon intake\":\"sex\", \"breed_intake\":\"breed\", \"color_intake\":\"color\"},\n",
    "                inplace=True)"
   ]
  },
  {
   "cell_type": "code",
   "execution_count": 24,
   "metadata": {
    "scrolled": true
   },
   "outputs": [
    {
     "data": {
      "text/plain": [
       "both          169026\n",
       "left_only        496\n",
       "right_only         0\n",
       "Name: _merge, dtype: int64"
      ]
     },
     "execution_count": 24,
     "metadata": {},
     "output_type": "execute_result"
    }
   ],
   "source": [
    "merged_df[\"_merge\"].value_counts(dropna=False)"
   ]
  },
  {
   "cell_type": "markdown",
   "metadata": {},
   "source": [
    "As you can see, most of the animals in the intake data can be found in the outcome data, i.e: entries where the ``_merge`` field has a ``both`` value. I will call this sample the ``left_shelter`` sample. In addition, there are 496 animals in the intake data without a match in the outcome data, i.e: entries where the ``_merge`` field has a ``left_only`` value. I will call this sample ``stay_sample``. Below, I will look at each of the samples one by one."
   ]
  },
  {
   "cell_type": "markdown",
   "metadata": {},
   "source": [
    "**Animals that have left the shelter**"
   ]
  },
  {
   "cell_type": "code",
   "execution_count": 26,
   "metadata": {},
   "outputs": [
    {
     "data": {
      "text/html": [
       "<div>\n",
       "<style scoped>\n",
       "    .dataframe tbody tr th:only-of-type {\n",
       "        vertical-align: middle;\n",
       "    }\n",
       "\n",
       "    .dataframe tbody tr th {\n",
       "        vertical-align: top;\n",
       "    }\n",
       "\n",
       "    .dataframe thead th {\n",
       "        text-align: right;\n",
       "    }\n",
       "</style>\n",
       "<table border=\"1\" class=\"dataframe\">\n",
       "  <thead>\n",
       "    <tr style=\"text-align: right;\">\n",
       "      <th></th>\n",
       "      <th>animal id</th>\n",
       "      <th>name</th>\n",
       "      <th>datetime_intake</th>\n",
       "      <th>monthyear_intake</th>\n",
       "      <th>found location</th>\n",
       "      <th>intake type</th>\n",
       "      <th>intake condition</th>\n",
       "      <th>animal type</th>\n",
       "      <th>sex</th>\n",
       "      <th>age upon intake</th>\n",
       "      <th>...</th>\n",
       "      <th>year</th>\n",
       "      <th>datetime_outcome</th>\n",
       "      <th>monthyear_outcome</th>\n",
       "      <th>date of birth</th>\n",
       "      <th>outcome type</th>\n",
       "      <th>outcome subtype</th>\n",
       "      <th>age upon outcome</th>\n",
       "      <th>age_number_outcome</th>\n",
       "      <th>age_group_outcome</th>\n",
       "      <th>_merge</th>\n",
       "    </tr>\n",
       "  </thead>\n",
       "  <tbody>\n",
       "    <tr>\n",
       "      <th>0</th>\n",
       "      <td>A786884</td>\n",
       "      <td>*Brock</td>\n",
       "      <td>2019-01-03 16:19:00</td>\n",
       "      <td>January 2019</td>\n",
       "      <td>2501 Magin Meadow Dr in Austin (TX)</td>\n",
       "      <td>Stray</td>\n",
       "      <td>Normal</td>\n",
       "      <td>Dog</td>\n",
       "      <td>Neutered Male</td>\n",
       "      <td>2 years</td>\n",
       "      <td>...</td>\n",
       "      <td>2019</td>\n",
       "      <td>2019-01-08 15:11:00</td>\n",
       "      <td>Jan 2019</td>\n",
       "      <td>2017-01-03</td>\n",
       "      <td>Transfer</td>\n",
       "      <td>Partner</td>\n",
       "      <td>2 years</td>\n",
       "      <td>2.0</td>\n",
       "      <td>young-adult</td>\n",
       "      <td>both</td>\n",
       "    </tr>\n",
       "    <tr>\n",
       "      <th>1</th>\n",
       "      <td>A706918</td>\n",
       "      <td>Belle</td>\n",
       "      <td>2015-07-05 12:59:00</td>\n",
       "      <td>July 2015</td>\n",
       "      <td>9409 Bluegrass Dr in Austin (TX)</td>\n",
       "      <td>Stray</td>\n",
       "      <td>Normal</td>\n",
       "      <td>Dog</td>\n",
       "      <td>Spayed Female</td>\n",
       "      <td>8 years</td>\n",
       "      <td>...</td>\n",
       "      <td>2015</td>\n",
       "      <td>2015-07-05 15:13:00</td>\n",
       "      <td>Jul 2015</td>\n",
       "      <td>2007-07-05</td>\n",
       "      <td>Return to Owner</td>\n",
       "      <td>NaN</td>\n",
       "      <td>8 years</td>\n",
       "      <td>8.0</td>\n",
       "      <td>senior</td>\n",
       "      <td>both</td>\n",
       "    </tr>\n",
       "    <tr>\n",
       "      <th>2</th>\n",
       "      <td>A724273</td>\n",
       "      <td>Runster</td>\n",
       "      <td>2016-04-14 18:43:00</td>\n",
       "      <td>April 2016</td>\n",
       "      <td>2818 Palomino Trail in Austin (TX)</td>\n",
       "      <td>Stray</td>\n",
       "      <td>Normal</td>\n",
       "      <td>Dog</td>\n",
       "      <td>Intact Male</td>\n",
       "      <td>11 months</td>\n",
       "      <td>...</td>\n",
       "      <td>2016</td>\n",
       "      <td>2016-04-21 17:17:00</td>\n",
       "      <td>Apr 2016</td>\n",
       "      <td>2015-04-17</td>\n",
       "      <td>Return to Owner</td>\n",
       "      <td>NaN</td>\n",
       "      <td>1 year</td>\n",
       "      <td>1.0</td>\n",
       "      <td>young-adult</td>\n",
       "      <td>both</td>\n",
       "    </tr>\n",
       "    <tr>\n",
       "      <th>3</th>\n",
       "      <td>A665644</td>\n",
       "      <td>NaN</td>\n",
       "      <td>2013-10-21 07:59:00</td>\n",
       "      <td>October 2013</td>\n",
       "      <td>Austin (TX)</td>\n",
       "      <td>Stray</td>\n",
       "      <td>Sick</td>\n",
       "      <td>Cat</td>\n",
       "      <td>Intact Female</td>\n",
       "      <td>4 weeks</td>\n",
       "      <td>...</td>\n",
       "      <td>2013</td>\n",
       "      <td>2013-10-21 11:39:00</td>\n",
       "      <td>Oct 2013</td>\n",
       "      <td>2013-09-21</td>\n",
       "      <td>Transfer</td>\n",
       "      <td>Partner</td>\n",
       "      <td>4 weeks</td>\n",
       "      <td>0.0</td>\n",
       "      <td>young-adult</td>\n",
       "      <td>both</td>\n",
       "    </tr>\n",
       "    <tr>\n",
       "      <th>4</th>\n",
       "      <td>A682524</td>\n",
       "      <td>Rio</td>\n",
       "      <td>2014-06-29 10:38:00</td>\n",
       "      <td>June 2014</td>\n",
       "      <td>800 Grove Blvd in Austin (TX)</td>\n",
       "      <td>Stray</td>\n",
       "      <td>Normal</td>\n",
       "      <td>Dog</td>\n",
       "      <td>Neutered Male</td>\n",
       "      <td>4 years</td>\n",
       "      <td>...</td>\n",
       "      <td>2014</td>\n",
       "      <td>2014-07-02 14:16:00</td>\n",
       "      <td>Jul 2014</td>\n",
       "      <td>2010-06-29</td>\n",
       "      <td>Return to Owner</td>\n",
       "      <td>NaN</td>\n",
       "      <td>4 years</td>\n",
       "      <td>4.0</td>\n",
       "      <td>young-adult</td>\n",
       "      <td>both</td>\n",
       "    </tr>\n",
       "  </tbody>\n",
       "</table>\n",
       "<p>5 rows × 24 columns</p>\n",
       "</div>"
      ],
      "text/plain": [
       "  animal id     name     datetime_intake monthyear_intake  \\\n",
       "0   A786884   *Brock 2019-01-03 16:19:00     January 2019   \n",
       "1   A706918    Belle 2015-07-05 12:59:00        July 2015   \n",
       "2   A724273  Runster 2016-04-14 18:43:00       April 2016   \n",
       "3   A665644      NaN 2013-10-21 07:59:00     October 2013   \n",
       "4   A682524      Rio 2014-06-29 10:38:00        June 2014   \n",
       "\n",
       "                        found location intake type intake condition  \\\n",
       "0  2501 Magin Meadow Dr in Austin (TX)       Stray           Normal   \n",
       "1     9409 Bluegrass Dr in Austin (TX)       Stray           Normal   \n",
       "2   2818 Palomino Trail in Austin (TX)       Stray           Normal   \n",
       "3                          Austin (TX)       Stray             Sick   \n",
       "4        800 Grove Blvd in Austin (TX)       Stray           Normal   \n",
       "\n",
       "  animal type            sex age upon intake  ...  year    datetime_outcome  \\\n",
       "0         Dog  Neutered Male         2 years  ...  2019 2019-01-08 15:11:00   \n",
       "1         Dog  Spayed Female         8 years  ...  2015 2015-07-05 15:13:00   \n",
       "2         Dog    Intact Male       11 months  ...  2016 2016-04-21 17:17:00   \n",
       "3         Cat  Intact Female         4 weeks  ...  2013 2013-10-21 11:39:00   \n",
       "4         Dog  Neutered Male         4 years  ...  2014 2014-07-02 14:16:00   \n",
       "\n",
       "   monthyear_outcome date of birth     outcome type outcome subtype  \\\n",
       "0           Jan 2019    2017-01-03         Transfer         Partner   \n",
       "1           Jul 2015    2007-07-05  Return to Owner             NaN   \n",
       "2           Apr 2016    2015-04-17  Return to Owner             NaN   \n",
       "3           Oct 2013    2013-09-21         Transfer         Partner   \n",
       "4           Jul 2014    2010-06-29  Return to Owner             NaN   \n",
       "\n",
       "  age upon outcome age_number_outcome age_group_outcome _merge  \n",
       "0          2 years                2.0       young-adult   both  \n",
       "1          8 years                8.0            senior   both  \n",
       "2           1 year                1.0       young-adult   both  \n",
       "3          4 weeks                0.0       young-adult   both  \n",
       "4          4 years                4.0       young-adult   both  \n",
       "\n",
       "[5 rows x 24 columns]"
      ]
     },
     "execution_count": 26,
     "metadata": {},
     "output_type": "execute_result"
    }
   ],
   "source": [
    "# Keep the sample of animals that have left the shelter\n",
    "left_shelter = merged_df[merged_df[\"_merge\"] == \"both\"].copy()\n",
    "left_shelter.head()"
   ]
  },
  {
   "cell_type": "code",
   "execution_count": 27,
   "metadata": {},
   "outputs": [
    {
     "data": {
      "text/plain": [
       "False    148146\n",
       "True      20880\n",
       "Name: flag, dtype: int64"
      ]
     },
     "execution_count": 27,
     "metadata": {},
     "output_type": "execute_result"
    }
   ],
   "source": [
    "# Drop observations that have datetime_outcome < datetimetime_intake since intake date needs to be before outcome date.\n",
    "left_shelter[\"flag\"] = (left_shelter[\"datetime_intake\"] > left_shelter[\"datetime_outcome\"])\n",
    "left_shelter[\"flag\"].value_counts(dropna=False)"
   ]
  },
  {
   "cell_type": "code",
   "execution_count": 28,
   "metadata": {},
   "outputs": [],
   "source": [
    "# Keep the valid merges only, i.e: where there is no flag for entries with the date of outcome later than the date of entry.\n",
    "left_shelter = left_shelter[left_shelter[\"flag\"] == False].copy()"
   ]
  },
  {
   "cell_type": "markdown",
   "metadata": {},
   "source": [
    "Since the primary hypothesis I would like to test is whether senior animals stay a longer time in shelter before being adopted compared to younger animals, I will further subset the sample of animals having exited the shelter to ``Adoption`` outcome type."
   ]
  },
  {
   "cell_type": "code",
   "execution_count": 29,
   "metadata": {},
   "outputs": [],
   "source": [
    "adoption_sample = left_shelter[left_shelter[\"outcome type\"] == \"Adoption\"].copy()"
   ]
  },
  {
   "cell_type": "code",
   "execution_count": 30,
   "metadata": {},
   "outputs": [],
   "source": [
    "# Compute the number of days an animal stayed in shelter from the day of intake to the day of adoption\n",
    "adoption_sample[\"time_stay\"] = (adoption_sample[\"datetime_outcome\"] - adoption_sample[\"datetime_intake\"]).dt.days"
   ]
  },
  {
   "cell_type": "markdown",
   "metadata": {},
   "source": [
    "Next, I subset the data into senior animals and younger animals adoptions for hypothesis testing later."
   ]
  },
  {
   "cell_type": "code",
   "execution_count": 31,
   "metadata": {},
   "outputs": [],
   "source": [
    "# Subset into senior and younger animals' length of stay for hypothesis testing\n",
    "senior_length = adoption_sample.where(adoption_sample[\"age_group_outcome\"] == \"senior\").dropna()[\"time_stay\"] # returns a series of \"time_stay\"\n",
    "young_length = adoption_sample.where(adoption_sample[\"age_group_outcome\"] == \"young-adult\").dropna()[\"time_stay\"]"
   ]
  },
  {
   "cell_type": "code",
   "execution_count": 32,
   "metadata": {
    "scrolled": true
   },
   "outputs": [
    {
     "data": {
      "image/png": "[encoded data removed]",
      "text/plain": [
       "<Figure size 432x288 with 2 Axes>"
      ]
     },
     "metadata": {
      "needs_background": "light"
     },
     "output_type": "display_data"
    }
   ],
   "source": [
    "# Visualize the distribution for these two samples\n",
    "fig, (ax1, ax2) = plt.subplots(1, 2)\n",
    "fig.tight_layout(h_pad=4) # prevents overlapping\n",
    "ax1.hist(senior_length)\n",
    "ax2.hist(young_length)\n",
    "\n",
    "ax1.set_title(\"Senior\")\n",
    "ax2.set_title(\"Young\")\n",
    "ax1.set(ylabel=\"Frequency\")\n",
    "for ax in [ax1, ax2]:\n",
    "    ax.set(xlabel='Days in shelter before adoption')"
   ]
  },
  {
   "cell_type": "code",
   "execution_count": 33,
   "metadata": {
    "scrolled": true
   },
   "outputs": [
    {
     "name": "stdout",
     "output_type": "stream",
     "text": [
      "Senior animals' length of stay before adoption summary statistics\n",
      "count    1104.000000\n",
      "mean      292.434783\n",
      "std       404.442824\n",
      "min         2.000000\n",
      "25%        51.750000\n",
      "50%       134.000000\n",
      "75%       371.000000\n",
      "max      2794.000000\n",
      "Name: time_stay, dtype: float64\n",
      "\n",
      "\n",
      "Younger animals' length of stay before adoption summary statistics\n",
      "count    10846.000000\n",
      "mean       113.374055\n",
      "std        193.615910\n",
      "min          0.000000\n",
      "25%         36.000000\n",
      "50%         58.000000\n",
      "75%        104.000000\n",
      "max       2767.000000\n",
      "Name: time_stay, dtype: float64\n"
     ]
    }
   ],
   "source": [
    "print(\"Senior animals' length of stay before adoption summary statistics\")\n",
    "print(senior_length.describe())\n",
    "print(\"\\n\")\n",
    "print(\"Younger animals' length of stay before adoption summary statistics\")\n",
    "print(young_length.describe())"
   ]
  },
  {
   "cell_type": "code",
   "execution_count": 34,
   "metadata": {},
   "outputs": [
    {
     "data": {
      "text/plain": [
       "13"
      ]
     },
     "execution_count": 34,
     "metadata": {},
     "output_type": "execute_result"
    }
   ],
   "source": [
    "# How many zeros in younger group?\n",
    "young_length.value_counts()[0]"
   ]
  },
  {
   "cell_type": "markdown",
   "metadata": {},
   "source": [
    "The length of stays distributions for both senior and younger pets are heavily skewed to the left. Let's first try transforming the variables to log forms to see if it allows using parametric t-test. One thing about a log transformation is it does not work with zero values. For younger animals, there are zero values in the length of stay. However, the number of zero values is small - only 13 values. To deal with these zero values, I choose a common method - adding a small constant to each value and then take the log transformation for the younger animal adoptions group."
   ]
  },
  {
   "cell_type": "code",
   "execution_count": 35,
   "metadata": {},
   "outputs": [],
   "source": [
    "log_senior = np.log(senior_length)\n",
    "log_young = np.log(young_length + 0.0001)"
   ]
  },
  {
   "cell_type": "code",
   "execution_count": 37,
   "metadata": {},
   "outputs": [
    {
     "data": {
      "text/plain": [
       "Text(0, 0.5, 'Log number of days')"
      ]
     },
     "execution_count": 37,
     "metadata": {},
     "output_type": "execute_result"
    },
    {
     "data": {
      "image/png": "[encoded data removed]",
      "text/plain": [
       "<Figure size 432x288 with 1 Axes>"
      ]
     },
     "metadata": {
      "needs_background": "light"
     },
     "output_type": "display_data"
    }
   ],
   "source": [
    "plt.boxplot([log_senior, log_young],\n",
    "           labels = [\"Senior animals\", \"Younger animals\"])\n",
    "plt.suptitle(\"Box plot of log distributions of number of days in the shelter before adoption\")\n",
    "plt.ylabel(\"Log number of days\")"
   ]
  },
  {
   "cell_type": "markdown",
   "metadata": {},
   "source": [
    "Even after the log transformations, there are still quite a few outliers in the log distributions of both senior and young groups. In my opinion, these outliers actually contain valuable information about the amount of time an animal stays in the shelter before adoption. As a result, I decide to keep these outliers intact and use the Mann-Whitney U test, a non-parametric equivalent to independent samples t-test."
   ]
  },
  {
   "cell_type": "markdown",
   "metadata": {},
   "source": [
    "Unlike the t-test, the Mann-Whitney U test only requires the two groups of interest for our hypothesis testing are indepedent. This assumption is reasonable in my case because the senior animals adoption group is likely independent from the younger animals adoption group. Thus, I proceed with the Mann-Whitney U test. The null hypothesis is that the distribution underlying the sample of senior animals' length of stay in shelter before adoption is the same as the distribution underlying that of younger animals'."
   ]
  },
  {
   "cell_type": "code",
   "execution_count": 38,
   "metadata": {},
   "outputs": [
    {
     "name": "stdout",
     "output_type": "stream",
     "text": [
      "2.149910181911463e-82\n",
      "Reject the null hypothesis\n"
     ]
    }
   ],
   "source": [
    "import scipy.stats\n",
    "from scipy.stats import mannwhitneyu\n",
    "\n",
    "statistic, p_value = mannwhitneyu(senior_length, young_length, alternative=\"greater\") # senior > young\n",
    "\n",
    "print(p_value)\n",
    "if p_value < 0.05:\n",
    "    print(\"Reject the null hypothesis\")\n",
    "else:\n",
    "    print(\"Fail to reject the null hypothesis\")"
   ]
  },
  {
   "cell_type": "markdown",
   "metadata": {},
   "source": [
    "The result of the Mann-Whitney U test rejects the null hypothesis in favor of the alternative that senior animals have longer time in the shelter before being adopted than younger animals."
   ]
  },
  {
   "cell_type": "markdown",
   "metadata": {},
   "source": [
    "**Analyzing the animals still staying at the shelter**"
   ]
  },
  {
   "cell_type": "code",
   "execution_count": 39,
   "metadata": {},
   "outputs": [],
   "source": [
    "stay_sample = merged_df[merged_df[\"_merge\"] == \"left_only\"].copy()"
   ]
  },
  {
   "cell_type": "code",
   "execution_count": 40,
   "metadata": {
    "scrolled": true
   },
   "outputs": [
    {
     "data": {
      "text/plain": [
       "2022    370\n",
       "2021    117\n",
       "2020      5\n",
       "2019      1\n",
       "2017      1\n",
       "2015      1\n",
       "2014      1\n",
       "Name: year, dtype: int64"
      ]
     },
     "execution_count": 40,
     "metadata": {},
     "output_type": "execute_result"
    }
   ],
   "source": [
    "stay_sample[\"year\"].value_counts(dropna=False)"
   ]
  },
  {
   "cell_type": "markdown",
   "metadata": {},
   "source": [
    "The majority of the animals that still stay at the shelter have just entered the shelter recently in 2022. It then makes sense they do not have an outcome yet. Let's delve into these further and see how many of these are senior."
   ]
  },
  {
   "cell_type": "code",
   "execution_count": 41,
   "metadata": {},
   "outputs": [
    {
     "data": {
      "text/plain": [
       "0.0     148\n",
       "2.0     118\n",
       "1.0      68\n",
       "3.0      52\n",
       "4.0      38\n",
       "7.0      15\n",
       "5.0      12\n",
       "9.0      12\n",
       "6.0      11\n",
       "10.0      5\n",
       "8.0       4\n",
       "11.0      3\n",
       "13.0      3\n",
       "15.0      2\n",
       "12.0      2\n",
       "16.0      1\n",
       "17.0      1\n",
       "14.0      1\n",
       "Name: current_age, dtype: int64"
      ]
     },
     "execution_count": 41,
     "metadata": {},
     "output_type": "execute_result"
    }
   ],
   "source": [
    "# Calculate the current age of these animals as of 2022 in years\n",
    "stay_sample[\"current_age\"] = 2022 - stay_sample[\"year\"] + stay_sample[\"age_number_intake\"]\n",
    "stay_sample[\"current_age\"].value_counts(dropna=False)"
   ]
  },
  {
   "cell_type": "code",
   "execution_count": 42,
   "metadata": {},
   "outputs": [
    {
     "data": {
      "text/plain": [
       "young-adult    469\n",
       "senior          27\n",
       "Name: age_group, dtype: int64"
      ]
     },
     "execution_count": 42,
     "metadata": {},
     "output_type": "execute_result"
    }
   ],
   "source": [
    "# Classify the animals still staying into age groups. \n",
    "classify_age(stay_sample, \"current_age\")\n",
    "stay_sample[\"age_group\"].value_counts()"
   ]
  },
  {
   "cell_type": "markdown",
   "metadata": {},
   "source": [
    "Among all the animals still staying at the shelter, only 27 are senior and 469 are young or adult. How long exactly have these 27 senior animals been staying at the shelter?"
   ]
  },
  {
   "cell_type": "code",
   "execution_count": 43,
   "metadata": {},
   "outputs": [
    {
     "name": "stdout",
     "output_type": "stream",
     "text": [
      "Length of time senior animals still at the shelter have lived there:\n",
      "count    27.000000\n",
      "mean      1.296296\n",
      "std       2.034601\n",
      "min       0.000000\n",
      "25%       0.000000\n",
      "50%       1.000000\n",
      "75%       1.000000\n",
      "max       8.000000\n",
      "Name: time_stay, dtype: float64\n"
     ]
    },
    {
     "data": {
      "text/plain": [
       "Text(0.5, 0, 'Number of senior animals')"
      ]
     },
     "execution_count": 43,
     "metadata": {},
     "output_type": "execute_result"
    },
    {
     "data": {
      "image/png": "[encoded data removed]",
      "text/plain": [
       "<Figure size 432x288 with 1 Axes>"
      ]
     },
     "metadata": {
      "needs_background": "light"
     },
     "output_type": "display_data"
    }
   ],
   "source": [
    "# Filter to senior animals only and calculate the length of time they have stayed here.\n",
    "senior_stay = stay_sample.loc[stay_sample[\"age_group\"] == \"senior\", :].copy()\n",
    "senior_stay[\"time_stay\"] = 2022 - senior_stay[\"year\"]\n",
    "\n",
    "print(\"Length of time senior animals still at the shelter have lived there:\")\n",
    "print(senior_stay[\"time_stay\"].describe())\n",
    "\n",
    "senior_stay[\"time_stay\"].hist()\n",
    "plt.ylabel(\"Frequency\")\n",
    "plt.xlabel(\"Number of senior animals\")"
   ]
  },
  {
   "cell_type": "code",
   "execution_count": 44,
   "metadata": {},
   "outputs": [
    {
     "data": {
      "text/html": [
       "<div>\n",
       "<style scoped>\n",
       "    .dataframe tbody tr th:only-of-type {\n",
       "        vertical-align: middle;\n",
       "    }\n",
       "\n",
       "    .dataframe tbody tr th {\n",
       "        vertical-align: top;\n",
       "    }\n",
       "\n",
       "    .dataframe thead th {\n",
       "        text-align: right;\n",
       "    }\n",
       "</style>\n",
       "<table border=\"1\" class=\"dataframe\">\n",
       "  <thead>\n",
       "    <tr style=\"text-align: right;\">\n",
       "      <th></th>\n",
       "      <th>animal id</th>\n",
       "      <th>name</th>\n",
       "      <th>datetime_intake</th>\n",
       "      <th>monthyear_intake</th>\n",
       "      <th>found location</th>\n",
       "      <th>intake type</th>\n",
       "      <th>intake condition</th>\n",
       "      <th>animal type</th>\n",
       "      <th>sex</th>\n",
       "      <th>age upon intake</th>\n",
       "      <th>...</th>\n",
       "      <th>date of birth</th>\n",
       "      <th>outcome type</th>\n",
       "      <th>outcome subtype</th>\n",
       "      <th>age upon outcome</th>\n",
       "      <th>age_number_outcome</th>\n",
       "      <th>age_group_outcome</th>\n",
       "      <th>_merge</th>\n",
       "      <th>current_age</th>\n",
       "      <th>age_group</th>\n",
       "      <th>time_stay</th>\n",
       "    </tr>\n",
       "  </thead>\n",
       "  <tbody>\n",
       "    <tr>\n",
       "      <th>169516</th>\n",
       "      <td>A852967</td>\n",
       "      <td>Rex</td>\n",
       "      <td>2022-03-10 13:24:00</td>\n",
       "      <td>March 2022</td>\n",
       "      <td>Travis (TX)</td>\n",
       "      <td>Owner Surrender</td>\n",
       "      <td>Normal</td>\n",
       "      <td>Dog</td>\n",
       "      <td>Intact Male</td>\n",
       "      <td>9 years</td>\n",
       "      <td>...</td>\n",
       "      <td>NaT</td>\n",
       "      <td>NaN</td>\n",
       "      <td>NaN</td>\n",
       "      <td>NaN</td>\n",
       "      <td>NaN</td>\n",
       "      <td>NaN</td>\n",
       "      <td>left_only</td>\n",
       "      <td>9.0</td>\n",
       "      <td>senior</td>\n",
       "      <td>0</td>\n",
       "    </tr>\n",
       "    <tr>\n",
       "      <th>169434</th>\n",
       "      <td>A852898</td>\n",
       "      <td>Green</td>\n",
       "      <td>2022-03-09 12:34:00</td>\n",
       "      <td>March 2022</td>\n",
       "      <td>7212 Meador Avenue in Austin (TX)</td>\n",
       "      <td>Stray</td>\n",
       "      <td>Normal</td>\n",
       "      <td>Cat</td>\n",
       "      <td>Spayed Female</td>\n",
       "      <td>14 years</td>\n",
       "      <td>...</td>\n",
       "      <td>NaT</td>\n",
       "      <td>NaN</td>\n",
       "      <td>NaN</td>\n",
       "      <td>NaN</td>\n",
       "      <td>NaN</td>\n",
       "      <td>NaN</td>\n",
       "      <td>left_only</td>\n",
       "      <td>14.0</td>\n",
       "      <td>senior</td>\n",
       "      <td>0</td>\n",
       "    </tr>\n",
       "    <tr>\n",
       "      <th>169179</th>\n",
       "      <td>A852215</td>\n",
       "      <td>*Tucker</td>\n",
       "      <td>2022-02-28 10:36:00</td>\n",
       "      <td>February 2022</td>\n",
       "      <td>William Cannon in Austin (TX)</td>\n",
       "      <td>Stray</td>\n",
       "      <td>Normal</td>\n",
       "      <td>Dog</td>\n",
       "      <td>Neutered Male</td>\n",
       "      <td>8 years</td>\n",
       "      <td>...</td>\n",
       "      <td>NaT</td>\n",
       "      <td>NaN</td>\n",
       "      <td>NaN</td>\n",
       "      <td>NaN</td>\n",
       "      <td>NaN</td>\n",
       "      <td>NaN</td>\n",
       "      <td>left_only</td>\n",
       "      <td>8.0</td>\n",
       "      <td>senior</td>\n",
       "      <td>0</td>\n",
       "    </tr>\n",
       "    <tr>\n",
       "      <th>169127</th>\n",
       "      <td>A851755</td>\n",
       "      <td>*Elvie</td>\n",
       "      <td>2022-02-18 10:25:00</td>\n",
       "      <td>February 2022</td>\n",
       "      <td>6303 Ogier Dr in Austin (TX)</td>\n",
       "      <td>Stray</td>\n",
       "      <td>Normal</td>\n",
       "      <td>Dog</td>\n",
       "      <td>Intact Female</td>\n",
       "      <td>10 years</td>\n",
       "      <td>...</td>\n",
       "      <td>NaT</td>\n",
       "      <td>NaN</td>\n",
       "      <td>NaN</td>\n",
       "      <td>NaN</td>\n",
       "      <td>NaN</td>\n",
       "      <td>NaN</td>\n",
       "      <td>left_only</td>\n",
       "      <td>10.0</td>\n",
       "      <td>senior</td>\n",
       "      <td>0</td>\n",
       "    </tr>\n",
       "    <tr>\n",
       "      <th>168834</th>\n",
       "      <td>A851984</td>\n",
       "      <td>Iggy Pop</td>\n",
       "      <td>2022-02-22 14:29:00</td>\n",
       "      <td>February 2022</td>\n",
       "      <td>Austin (TX)</td>\n",
       "      <td>Owner Surrender</td>\n",
       "      <td>Normal</td>\n",
       "      <td>Cat</td>\n",
       "      <td>Neutered Male</td>\n",
       "      <td>12 years</td>\n",
       "      <td>...</td>\n",
       "      <td>NaT</td>\n",
       "      <td>NaN</td>\n",
       "      <td>NaN</td>\n",
       "      <td>NaN</td>\n",
       "      <td>NaN</td>\n",
       "      <td>NaN</td>\n",
       "      <td>left_only</td>\n",
       "      <td>12.0</td>\n",
       "      <td>senior</td>\n",
       "      <td>0</td>\n",
       "    </tr>\n",
       "    <tr>\n",
       "      <th>168327</th>\n",
       "      <td>A851009</td>\n",
       "      <td>*Matt</td>\n",
       "      <td>2022-02-03 18:33:00</td>\n",
       "      <td>February 2022</td>\n",
       "      <td>2713 Francisco St in Austin (TX)</td>\n",
       "      <td>Stray</td>\n",
       "      <td>Normal</td>\n",
       "      <td>Dog</td>\n",
       "      <td>Intact Male</td>\n",
       "      <td>9 years</td>\n",
       "      <td>...</td>\n",
       "      <td>NaT</td>\n",
       "      <td>NaN</td>\n",
       "      <td>NaN</td>\n",
       "      <td>NaN</td>\n",
       "      <td>NaN</td>\n",
       "      <td>NaN</td>\n",
       "      <td>left_only</td>\n",
       "      <td>9.0</td>\n",
       "      <td>senior</td>\n",
       "      <td>0</td>\n",
       "    </tr>\n",
       "    <tr>\n",
       "      <th>168233</th>\n",
       "      <td>A850436</td>\n",
       "      <td>Oso</td>\n",
       "      <td>2022-01-24 15:22:00</td>\n",
       "      <td>January 2022</td>\n",
       "      <td>Austin (TX)</td>\n",
       "      <td>Owner Surrender</td>\n",
       "      <td>Normal</td>\n",
       "      <td>Dog</td>\n",
       "      <td>Neutered Male</td>\n",
       "      <td>10 years</td>\n",
       "      <td>...</td>\n",
       "      <td>NaT</td>\n",
       "      <td>NaN</td>\n",
       "      <td>NaN</td>\n",
       "      <td>NaN</td>\n",
       "      <td>NaN</td>\n",
       "      <td>NaN</td>\n",
       "      <td>left_only</td>\n",
       "      <td>10.0</td>\n",
       "      <td>senior</td>\n",
       "      <td>0</td>\n",
       "    </tr>\n",
       "    <tr>\n",
       "      <th>167768</th>\n",
       "      <td>A548940</td>\n",
       "      <td>Spot</td>\n",
       "      <td>2022-01-24 13:33:00</td>\n",
       "      <td>January 2022</td>\n",
       "      <td>5426 Menchaca Rd in Austin (TX)</td>\n",
       "      <td>Public Assist</td>\n",
       "      <td>Sick</td>\n",
       "      <td>Dog</td>\n",
       "      <td>Neutered Male</td>\n",
       "      <td>13 years</td>\n",
       "      <td>...</td>\n",
       "      <td>NaT</td>\n",
       "      <td>NaN</td>\n",
       "      <td>NaN</td>\n",
       "      <td>NaN</td>\n",
       "      <td>NaN</td>\n",
       "      <td>NaN</td>\n",
       "      <td>left_only</td>\n",
       "      <td>13.0</td>\n",
       "      <td>senior</td>\n",
       "      <td>0</td>\n",
       "    </tr>\n",
       "    <tr>\n",
       "      <th>169457</th>\n",
       "      <td>A852129</td>\n",
       "      <td>*Kodi</td>\n",
       "      <td>2022-02-25 13:28:00</td>\n",
       "      <td>February 2022</td>\n",
       "      <td>8028 Elroy Road in Travis (TX)</td>\n",
       "      <td>Stray</td>\n",
       "      <td>Normal</td>\n",
       "      <td>Dog</td>\n",
       "      <td>Intact Male</td>\n",
       "      <td>9 years</td>\n",
       "      <td>...</td>\n",
       "      <td>NaT</td>\n",
       "      <td>NaN</td>\n",
       "      <td>NaN</td>\n",
       "      <td>NaN</td>\n",
       "      <td>NaN</td>\n",
       "      <td>NaN</td>\n",
       "      <td>left_only</td>\n",
       "      <td>9.0</td>\n",
       "      <td>senior</td>\n",
       "      <td>0</td>\n",
       "    </tr>\n",
       "    <tr>\n",
       "      <th>167426</th>\n",
       "      <td>A848897</td>\n",
       "      <td>*Robby G</td>\n",
       "      <td>2021-12-29 20:06:00</td>\n",
       "      <td>December 2021</td>\n",
       "      <td>10811 San Jose Ave in Austin (TX)</td>\n",
       "      <td>Stray</td>\n",
       "      <td>Injured</td>\n",
       "      <td>Dog</td>\n",
       "      <td>Neutered Male</td>\n",
       "      <td>7 years</td>\n",
       "      <td>...</td>\n",
       "      <td>NaT</td>\n",
       "      <td>NaN</td>\n",
       "      <td>NaN</td>\n",
       "      <td>NaN</td>\n",
       "      <td>NaN</td>\n",
       "      <td>NaN</td>\n",
       "      <td>left_only</td>\n",
       "      <td>8.0</td>\n",
       "      <td>senior</td>\n",
       "      <td>1</td>\n",
       "    </tr>\n",
       "    <tr>\n",
       "      <th>166800</th>\n",
       "      <td>A848403</td>\n",
       "      <td>*Bruce</td>\n",
       "      <td>2021-12-20 11:55:00</td>\n",
       "      <td>December 2021</td>\n",
       "      <td>Quicksilver in Austin (TX)</td>\n",
       "      <td>Stray</td>\n",
       "      <td>Injured</td>\n",
       "      <td>Dog</td>\n",
       "      <td>Neutered Male</td>\n",
       "      <td>8 years</td>\n",
       "      <td>...</td>\n",
       "      <td>NaT</td>\n",
       "      <td>NaN</td>\n",
       "      <td>NaN</td>\n",
       "      <td>NaN</td>\n",
       "      <td>NaN</td>\n",
       "      <td>NaN</td>\n",
       "      <td>left_only</td>\n",
       "      <td>9.0</td>\n",
       "      <td>senior</td>\n",
       "      <td>1</td>\n",
       "    </tr>\n",
       "    <tr>\n",
       "      <th>166517</th>\n",
       "      <td>A847819</td>\n",
       "      <td>*Nikki</td>\n",
       "      <td>2021-12-09 07:30:00</td>\n",
       "      <td>December 2021</td>\n",
       "      <td>3400 Speedway in Austin (TX)</td>\n",
       "      <td>Stray</td>\n",
       "      <td>Injured</td>\n",
       "      <td>Cat</td>\n",
       "      <td>Spayed Female</td>\n",
       "      <td>16 years</td>\n",
       "      <td>...</td>\n",
       "      <td>NaT</td>\n",
       "      <td>NaN</td>\n",
       "      <td>NaN</td>\n",
       "      <td>NaN</td>\n",
       "      <td>NaN</td>\n",
       "      <td>NaN</td>\n",
       "      <td>left_only</td>\n",
       "      <td>17.0</td>\n",
       "      <td>senior</td>\n",
       "      <td>1</td>\n",
       "    </tr>\n",
       "    <tr>\n",
       "      <th>166180</th>\n",
       "      <td>A655093</td>\n",
       "      <td>Marenzo</td>\n",
       "      <td>2021-10-01 12:13:00</td>\n",
       "      <td>October 2021</td>\n",
       "      <td>Manor (TX)</td>\n",
       "      <td>Owner Surrender</td>\n",
       "      <td>Normal</td>\n",
       "      <td>Dog</td>\n",
       "      <td>Neutered Male</td>\n",
       "      <td>9 years</td>\n",
       "      <td>...</td>\n",
       "      <td>NaT</td>\n",
       "      <td>NaN</td>\n",
       "      <td>NaN</td>\n",
       "      <td>NaN</td>\n",
       "      <td>NaN</td>\n",
       "      <td>NaN</td>\n",
       "      <td>left_only</td>\n",
       "      <td>10.0</td>\n",
       "      <td>senior</td>\n",
       "      <td>1</td>\n",
       "    </tr>\n",
       "    <tr>\n",
       "      <th>35</th>\n",
       "      <td>A830990</td>\n",
       "      <td>Rocky</td>\n",
       "      <td>2021-03-19 15:40:00</td>\n",
       "      <td>March 2021</td>\n",
       "      <td>Austin (TX)</td>\n",
       "      <td>Owner Surrender</td>\n",
       "      <td>Normal</td>\n",
       "      <td>Dog</td>\n",
       "      <td>Intact Male</td>\n",
       "      <td>9 years</td>\n",
       "      <td>...</td>\n",
       "      <td>NaT</td>\n",
       "      <td>NaN</td>\n",
       "      <td>NaN</td>\n",
       "      <td>NaN</td>\n",
       "      <td>NaN</td>\n",
       "      <td>NaN</td>\n",
       "      <td>left_only</td>\n",
       "      <td>10.0</td>\n",
       "      <td>senior</td>\n",
       "      <td>1</td>\n",
       "    </tr>\n",
       "    <tr>\n",
       "      <th>141335</th>\n",
       "      <td>A843780</td>\n",
       "      <td>Sasha</td>\n",
       "      <td>2021-10-06 13:29:00</td>\n",
       "      <td>October 2021</td>\n",
       "      <td>Austin (TX)</td>\n",
       "      <td>Owner Surrender</td>\n",
       "      <td>Normal</td>\n",
       "      <td>Dog</td>\n",
       "      <td>Spayed Female</td>\n",
       "      <td>9 years</td>\n",
       "      <td>...</td>\n",
       "      <td>NaT</td>\n",
       "      <td>NaN</td>\n",
       "      <td>NaN</td>\n",
       "      <td>NaN</td>\n",
       "      <td>NaN</td>\n",
       "      <td>NaN</td>\n",
       "      <td>left_only</td>\n",
       "      <td>10.0</td>\n",
       "      <td>senior</td>\n",
       "      <td>1</td>\n",
       "    </tr>\n",
       "    <tr>\n",
       "      <th>126805</th>\n",
       "      <td>A835854</td>\n",
       "      <td>*Tilly</td>\n",
       "      <td>2021-06-02 13:27:00</td>\n",
       "      <td>June 2021</td>\n",
       "      <td>1831 Anderson Lane in Austin (TX)</td>\n",
       "      <td>Stray</td>\n",
       "      <td>Normal</td>\n",
       "      <td>Cat</td>\n",
       "      <td>Spayed Female</td>\n",
       "      <td>12 years</td>\n",
       "      <td>...</td>\n",
       "      <td>NaT</td>\n",
       "      <td>NaN</td>\n",
       "      <td>NaN</td>\n",
       "      <td>NaN</td>\n",
       "      <td>NaN</td>\n",
       "      <td>NaN</td>\n",
       "      <td>left_only</td>\n",
       "      <td>13.0</td>\n",
       "      <td>senior</td>\n",
       "      <td>1</td>\n",
       "    </tr>\n",
       "    <tr>\n",
       "      <th>110045</th>\n",
       "      <td>A838266</td>\n",
       "      <td>Raja</td>\n",
       "      <td>2021-07-06 11:34:00</td>\n",
       "      <td>July 2021</td>\n",
       "      <td>Austin (TX)</td>\n",
       "      <td>Owner Surrender</td>\n",
       "      <td>Normal</td>\n",
       "      <td>Dog</td>\n",
       "      <td>Spayed Female</td>\n",
       "      <td>15 years</td>\n",
       "      <td>...</td>\n",
       "      <td>NaT</td>\n",
       "      <td>NaN</td>\n",
       "      <td>NaN</td>\n",
       "      <td>NaN</td>\n",
       "      <td>NaN</td>\n",
       "      <td>NaN</td>\n",
       "      <td>left_only</td>\n",
       "      <td>16.0</td>\n",
       "      <td>senior</td>\n",
       "      <td>1</td>\n",
       "    </tr>\n",
       "    <tr>\n",
       "      <th>64502</th>\n",
       "      <td>A838236</td>\n",
       "      <td>Duke</td>\n",
       "      <td>2021-07-06 08:19:00</td>\n",
       "      <td>July 2021</td>\n",
       "      <td>Mckinney Falls in Austin (TX)</td>\n",
       "      <td>Stray</td>\n",
       "      <td>Injured</td>\n",
       "      <td>Dog</td>\n",
       "      <td>Neutered Male</td>\n",
       "      <td>8 years</td>\n",
       "      <td>...</td>\n",
       "      <td>NaT</td>\n",
       "      <td>NaN</td>\n",
       "      <td>NaN</td>\n",
       "      <td>NaN</td>\n",
       "      <td>NaN</td>\n",
       "      <td>NaN</td>\n",
       "      <td>left_only</td>\n",
       "      <td>9.0</td>\n",
       "      <td>senior</td>\n",
       "      <td>1</td>\n",
       "    </tr>\n",
       "    <tr>\n",
       "      <th>51791</th>\n",
       "      <td>A840604</td>\n",
       "      <td>Lulu</td>\n",
       "      <td>2021-08-10 18:52:00</td>\n",
       "      <td>August 2021</td>\n",
       "      <td>Austin (TX)</td>\n",
       "      <td>Owner Surrender</td>\n",
       "      <td>Normal</td>\n",
       "      <td>Cat</td>\n",
       "      <td>Spayed Female</td>\n",
       "      <td>14 years</td>\n",
       "      <td>...</td>\n",
       "      <td>NaT</td>\n",
       "      <td>NaN</td>\n",
       "      <td>NaN</td>\n",
       "      <td>NaN</td>\n",
       "      <td>NaN</td>\n",
       "      <td>NaN</td>\n",
       "      <td>left_only</td>\n",
       "      <td>15.0</td>\n",
       "      <td>senior</td>\n",
       "      <td>1</td>\n",
       "    </tr>\n",
       "    <tr>\n",
       "      <th>47516</th>\n",
       "      <td>A838267</td>\n",
       "      <td>Buddha</td>\n",
       "      <td>2021-07-06 11:34:00</td>\n",
       "      <td>July 2021</td>\n",
       "      <td>Austin (TX)</td>\n",
       "      <td>Owner Surrender</td>\n",
       "      <td>Normal</td>\n",
       "      <td>Dog</td>\n",
       "      <td>Neutered Male</td>\n",
       "      <td>10 years</td>\n",
       "      <td>...</td>\n",
       "      <td>NaT</td>\n",
       "      <td>NaN</td>\n",
       "      <td>NaN</td>\n",
       "      <td>NaN</td>\n",
       "      <td>NaN</td>\n",
       "      <td>NaN</td>\n",
       "      <td>left_only</td>\n",
       "      <td>11.0</td>\n",
       "      <td>senior</td>\n",
       "      <td>1</td>\n",
       "    </tr>\n",
       "    <tr>\n",
       "      <th>42775</th>\n",
       "      <td>A843470</td>\n",
       "      <td>Pecho Blanco</td>\n",
       "      <td>2021-10-01 12:13:00</td>\n",
       "      <td>October 2021</td>\n",
       "      <td>Manor (TX)</td>\n",
       "      <td>Owner Surrender</td>\n",
       "      <td>Normal</td>\n",
       "      <td>Dog</td>\n",
       "      <td>Neutered Male</td>\n",
       "      <td>10 years</td>\n",
       "      <td>...</td>\n",
       "      <td>NaT</td>\n",
       "      <td>NaN</td>\n",
       "      <td>NaN</td>\n",
       "      <td>NaN</td>\n",
       "      <td>NaN</td>\n",
       "      <td>NaN</td>\n",
       "      <td>left_only</td>\n",
       "      <td>11.0</td>\n",
       "      <td>senior</td>\n",
       "      <td>1</td>\n",
       "    </tr>\n",
       "    <tr>\n",
       "      <th>10945</th>\n",
       "      <td>A840958</td>\n",
       "      <td>Rocky</td>\n",
       "      <td>2021-08-17 21:54:00</td>\n",
       "      <td>August 2021</td>\n",
       "      <td>6921 Broad Brook Rd in Austin (TX)</td>\n",
       "      <td>Stray</td>\n",
       "      <td>Normal</td>\n",
       "      <td>Dog</td>\n",
       "      <td>Neutered Male</td>\n",
       "      <td>7 years</td>\n",
       "      <td>...</td>\n",
       "      <td>NaT</td>\n",
       "      <td>NaN</td>\n",
       "      <td>NaN</td>\n",
       "      <td>NaN</td>\n",
       "      <td>NaN</td>\n",
       "      <td>NaN</td>\n",
       "      <td>left_only</td>\n",
       "      <td>8.0</td>\n",
       "      <td>senior</td>\n",
       "      <td>1</td>\n",
       "    </tr>\n",
       "    <tr>\n",
       "      <th>150095</th>\n",
       "      <td>A835713</td>\n",
       "      <td>Maybelline</td>\n",
       "      <td>2021-06-01 11:03:00</td>\n",
       "      <td>June 2021</td>\n",
       "      <td>Austin (TX)</td>\n",
       "      <td>Owner Surrender</td>\n",
       "      <td>Normal</td>\n",
       "      <td>Cat</td>\n",
       "      <td>Spayed Female</td>\n",
       "      <td>10 years</td>\n",
       "      <td>...</td>\n",
       "      <td>NaT</td>\n",
       "      <td>NaN</td>\n",
       "      <td>NaN</td>\n",
       "      <td>NaN</td>\n",
       "      <td>NaN</td>\n",
       "      <td>NaN</td>\n",
       "      <td>left_only</td>\n",
       "      <td>11.0</td>\n",
       "      <td>senior</td>\n",
       "      <td>1</td>\n",
       "    </tr>\n",
       "    <tr>\n",
       "      <th>164963</th>\n",
       "      <td>A846701</td>\n",
       "      <td>Charlie</td>\n",
       "      <td>2021-11-19 14:39:00</td>\n",
       "      <td>November 2021</td>\n",
       "      <td>Austin (TX)</td>\n",
       "      <td>Owner Surrender</td>\n",
       "      <td>Normal</td>\n",
       "      <td>Dog</td>\n",
       "      <td>Intact Male</td>\n",
       "      <td>8 years</td>\n",
       "      <td>...</td>\n",
       "      <td>NaT</td>\n",
       "      <td>NaN</td>\n",
       "      <td>NaN</td>\n",
       "      <td>NaN</td>\n",
       "      <td>NaN</td>\n",
       "      <td>NaN</td>\n",
       "      <td>left_only</td>\n",
       "      <td>9.0</td>\n",
       "      <td>senior</td>\n",
       "      <td>1</td>\n",
       "    </tr>\n",
       "    <tr>\n",
       "      <th>7914</th>\n",
       "      <td>A764237</td>\n",
       "      <td>Misty</td>\n",
       "      <td>2017-12-26 12:08:00</td>\n",
       "      <td>December 2017</td>\n",
       "      <td>Austin (TX)</td>\n",
       "      <td>Owner Surrender</td>\n",
       "      <td>Normal</td>\n",
       "      <td>Cat</td>\n",
       "      <td>Spayed Female</td>\n",
       "      <td>10 years</td>\n",
       "      <td>...</td>\n",
       "      <td>NaT</td>\n",
       "      <td>NaN</td>\n",
       "      <td>NaN</td>\n",
       "      <td>NaN</td>\n",
       "      <td>NaN</td>\n",
       "      <td>NaN</td>\n",
       "      <td>left_only</td>\n",
       "      <td>15.0</td>\n",
       "      <td>senior</td>\n",
       "      <td>5</td>\n",
       "    </tr>\n",
       "    <tr>\n",
       "      <th>38605</th>\n",
       "      <td>A645513</td>\n",
       "      <td>NaN</td>\n",
       "      <td>2015-05-18 07:30:00</td>\n",
       "      <td>May 2015</td>\n",
       "      <td>3001 Sauls in Austin (TX)</td>\n",
       "      <td>Stray</td>\n",
       "      <td>Injured</td>\n",
       "      <td>Cat</td>\n",
       "      <td>Neutered Male</td>\n",
       "      <td>6 years</td>\n",
       "      <td>...</td>\n",
       "      <td>NaT</td>\n",
       "      <td>NaN</td>\n",
       "      <td>NaN</td>\n",
       "      <td>NaN</td>\n",
       "      <td>NaN</td>\n",
       "      <td>NaN</td>\n",
       "      <td>left_only</td>\n",
       "      <td>13.0</td>\n",
       "      <td>senior</td>\n",
       "      <td>7</td>\n",
       "    </tr>\n",
       "    <tr>\n",
       "      <th>6524</th>\n",
       "      <td>A636629</td>\n",
       "      <td>NaN</td>\n",
       "      <td>2014-09-07 16:31:00</td>\n",
       "      <td>September 2014</td>\n",
       "      <td>706 Terrace Mountain Drive in Austin (TX)</td>\n",
       "      <td>Stray</td>\n",
       "      <td>Normal</td>\n",
       "      <td>Cat</td>\n",
       "      <td>Spayed Female</td>\n",
       "      <td>4 years</td>\n",
       "      <td>...</td>\n",
       "      <td>NaT</td>\n",
       "      <td>NaN</td>\n",
       "      <td>NaN</td>\n",
       "      <td>NaN</td>\n",
       "      <td>NaN</td>\n",
       "      <td>NaN</td>\n",
       "      <td>left_only</td>\n",
       "      <td>12.0</td>\n",
       "      <td>senior</td>\n",
       "      <td>8</td>\n",
       "    </tr>\n",
       "  </tbody>\n",
       "</table>\n",
       "<p>27 rows × 27 columns</p>\n",
       "</div>"
      ],
      "text/plain": [
       "       animal id          name     datetime_intake monthyear_intake  \\\n",
       "169516   A852967           Rex 2022-03-10 13:24:00       March 2022   \n",
       "169434   A852898         Green 2022-03-09 12:34:00       March 2022   \n",
       "169179   A852215       *Tucker 2022-02-28 10:36:00    February 2022   \n",
       "169127   A851755        *Elvie 2022-02-18 10:25:00    February 2022   \n",
       "168834   A851984      Iggy Pop 2022-02-22 14:29:00    February 2022   \n",
       "168327   A851009         *Matt 2022-02-03 18:33:00    February 2022   \n",
       "168233   A850436           Oso 2022-01-24 15:22:00     January 2022   \n",
       "167768   A548940          Spot 2022-01-24 13:33:00     January 2022   \n",
       "169457   A852129         *Kodi 2022-02-25 13:28:00    February 2022   \n",
       "167426   A848897      *Robby G 2021-12-29 20:06:00    December 2021   \n",
       "166800   A848403        *Bruce 2021-12-20 11:55:00    December 2021   \n",
       "166517   A847819        *Nikki 2021-12-09 07:30:00    December 2021   \n",
       "166180   A655093       Marenzo 2021-10-01 12:13:00     October 2021   \n",
       "35       A830990         Rocky 2021-03-19 15:40:00       March 2021   \n",
       "141335   A843780         Sasha 2021-10-06 13:29:00     October 2021   \n",
       "126805   A835854        *Tilly 2021-06-02 13:27:00        June 2021   \n",
       "110045   A838266          Raja 2021-07-06 11:34:00        July 2021   \n",
       "64502    A838236          Duke 2021-07-06 08:19:00        July 2021   \n",
       "51791    A840604          Lulu 2021-08-10 18:52:00      August 2021   \n",
       "47516    A838267        Buddha 2021-07-06 11:34:00        July 2021   \n",
       "42775    A843470  Pecho Blanco 2021-10-01 12:13:00     October 2021   \n",
       "10945    A840958         Rocky 2021-08-17 21:54:00      August 2021   \n",
       "150095   A835713    Maybelline 2021-06-01 11:03:00        June 2021   \n",
       "164963   A846701       Charlie 2021-11-19 14:39:00    November 2021   \n",
       "7914     A764237         Misty 2017-12-26 12:08:00    December 2017   \n",
       "38605    A645513           NaN 2015-05-18 07:30:00         May 2015   \n",
       "6524     A636629           NaN 2014-09-07 16:31:00   September 2014   \n",
       "\n",
       "                                   found location      intake type  \\\n",
       "169516                                Travis (TX)  Owner Surrender   \n",
       "169434          7212 Meador Avenue in Austin (TX)            Stray   \n",
       "169179              William Cannon in Austin (TX)            Stray   \n",
       "169127               6303 Ogier Dr in Austin (TX)            Stray   \n",
       "168834                                Austin (TX)  Owner Surrender   \n",
       "168327           2713 Francisco St in Austin (TX)            Stray   \n",
       "168233                                Austin (TX)  Owner Surrender   \n",
       "167768            5426 Menchaca Rd in Austin (TX)    Public Assist   \n",
       "169457             8028 Elroy Road in Travis (TX)            Stray   \n",
       "167426          10811 San Jose Ave in Austin (TX)            Stray   \n",
       "166800                 Quicksilver in Austin (TX)            Stray   \n",
       "166517               3400 Speedway in Austin (TX)            Stray   \n",
       "166180                                 Manor (TX)  Owner Surrender   \n",
       "35                                    Austin (TX)  Owner Surrender   \n",
       "141335                                Austin (TX)  Owner Surrender   \n",
       "126805          1831 Anderson Lane in Austin (TX)            Stray   \n",
       "110045                                Austin (TX)  Owner Surrender   \n",
       "64502               Mckinney Falls in Austin (TX)            Stray   \n",
       "51791                                 Austin (TX)  Owner Surrender   \n",
       "47516                                 Austin (TX)  Owner Surrender   \n",
       "42775                                  Manor (TX)  Owner Surrender   \n",
       "10945          6921 Broad Brook Rd in Austin (TX)            Stray   \n",
       "150095                                Austin (TX)  Owner Surrender   \n",
       "164963                                Austin (TX)  Owner Surrender   \n",
       "7914                                  Austin (TX)  Owner Surrender   \n",
       "38605                   3001 Sauls in Austin (TX)            Stray   \n",
       "6524    706 Terrace Mountain Drive in Austin (TX)            Stray   \n",
       "\n",
       "       intake condition animal type            sex age upon intake  ...  \\\n",
       "169516           Normal         Dog    Intact Male         9 years  ...   \n",
       "169434           Normal         Cat  Spayed Female        14 years  ...   \n",
       "169179           Normal         Dog  Neutered Male         8 years  ...   \n",
       "169127           Normal         Dog  Intact Female        10 years  ...   \n",
       "168834           Normal         Cat  Neutered Male        12 years  ...   \n",
       "168327           Normal         Dog    Intact Male         9 years  ...   \n",
       "168233           Normal         Dog  Neutered Male        10 years  ...   \n",
       "167768             Sick         Dog  Neutered Male        13 years  ...   \n",
       "169457           Normal         Dog    Intact Male         9 years  ...   \n",
       "167426          Injured         Dog  Neutered Male         7 years  ...   \n",
       "166800          Injured         Dog  Neutered Male         8 years  ...   \n",
       "166517          Injured         Cat  Spayed Female        16 years  ...   \n",
       "166180           Normal         Dog  Neutered Male         9 years  ...   \n",
       "35               Normal         Dog    Intact Male         9 years  ...   \n",
       "141335           Normal         Dog  Spayed Female         9 years  ...   \n",
       "126805           Normal         Cat  Spayed Female        12 years  ...   \n",
       "110045           Normal         Dog  Spayed Female        15 years  ...   \n",
       "64502           Injured         Dog  Neutered Male         8 years  ...   \n",
       "51791            Normal         Cat  Spayed Female        14 years  ...   \n",
       "47516            Normal         Dog  Neutered Male        10 years  ...   \n",
       "42775            Normal         Dog  Neutered Male        10 years  ...   \n",
       "10945            Normal         Dog  Neutered Male         7 years  ...   \n",
       "150095           Normal         Cat  Spayed Female        10 years  ...   \n",
       "164963           Normal         Dog    Intact Male         8 years  ...   \n",
       "7914             Normal         Cat  Spayed Female        10 years  ...   \n",
       "38605           Injured         Cat  Neutered Male         6 years  ...   \n",
       "6524             Normal         Cat  Spayed Female         4 years  ...   \n",
       "\n",
       "       date of birth outcome type  outcome subtype age upon outcome  \\\n",
       "169516           NaT          NaN              NaN              NaN   \n",
       "169434           NaT          NaN              NaN              NaN   \n",
       "169179           NaT          NaN              NaN              NaN   \n",
       "169127           NaT          NaN              NaN              NaN   \n",
       "168834           NaT          NaN              NaN              NaN   \n",
       "168327           NaT          NaN              NaN              NaN   \n",
       "168233           NaT          NaN              NaN              NaN   \n",
       "167768           NaT          NaN              NaN              NaN   \n",
       "169457           NaT          NaN              NaN              NaN   \n",
       "167426           NaT          NaN              NaN              NaN   \n",
       "166800           NaT          NaN              NaN              NaN   \n",
       "166517           NaT          NaN              NaN              NaN   \n",
       "166180           NaT          NaN              NaN              NaN   \n",
       "35               NaT          NaN              NaN              NaN   \n",
       "141335           NaT          NaN              NaN              NaN   \n",
       "126805           NaT          NaN              NaN              NaN   \n",
       "110045           NaT          NaN              NaN              NaN   \n",
       "64502            NaT          NaN              NaN              NaN   \n",
       "51791            NaT          NaN              NaN              NaN   \n",
       "47516            NaT          NaN              NaN              NaN   \n",
       "42775            NaT          NaN              NaN              NaN   \n",
       "10945            NaT          NaN              NaN              NaN   \n",
       "150095           NaT          NaN              NaN              NaN   \n",
       "164963           NaT          NaN              NaN              NaN   \n",
       "7914             NaT          NaN              NaN              NaN   \n",
       "38605            NaT          NaN              NaN              NaN   \n",
       "6524             NaT          NaN              NaN              NaN   \n",
       "\n",
       "        age_number_outcome age_group_outcome     _merge current_age age_group  \\\n",
       "169516                 NaN               NaN  left_only         9.0    senior   \n",
       "169434                 NaN               NaN  left_only        14.0    senior   \n",
       "169179                 NaN               NaN  left_only         8.0    senior   \n",
       "169127                 NaN               NaN  left_only        10.0    senior   \n",
       "168834                 NaN               NaN  left_only        12.0    senior   \n",
       "168327                 NaN               NaN  left_only         9.0    senior   \n",
       "168233                 NaN               NaN  left_only        10.0    senior   \n",
       "167768                 NaN               NaN  left_only        13.0    senior   \n",
       "169457                 NaN               NaN  left_only         9.0    senior   \n",
       "167426                 NaN               NaN  left_only         8.0    senior   \n",
       "166800                 NaN               NaN  left_only         9.0    senior   \n",
       "166517                 NaN               NaN  left_only        17.0    senior   \n",
       "166180                 NaN               NaN  left_only        10.0    senior   \n",
       "35                     NaN               NaN  left_only        10.0    senior   \n",
       "141335                 NaN               NaN  left_only        10.0    senior   \n",
       "126805                 NaN               NaN  left_only        13.0    senior   \n",
       "110045                 NaN               NaN  left_only        16.0    senior   \n",
       "64502                  NaN               NaN  left_only         9.0    senior   \n",
       "51791                  NaN               NaN  left_only        15.0    senior   \n",
       "47516                  NaN               NaN  left_only        11.0    senior   \n",
       "42775                  NaN               NaN  left_only        11.0    senior   \n",
       "10945                  NaN               NaN  left_only         8.0    senior   \n",
       "150095                 NaN               NaN  left_only        11.0    senior   \n",
       "164963                 NaN               NaN  left_only         9.0    senior   \n",
       "7914                   NaN               NaN  left_only        15.0    senior   \n",
       "38605                  NaN               NaN  left_only        13.0    senior   \n",
       "6524                   NaN               NaN  left_only        12.0    senior   \n",
       "\n",
       "       time_stay  \n",
       "169516         0  \n",
       "169434         0  \n",
       "169179         0  \n",
       "169127         0  \n",
       "168834         0  \n",
       "168327         0  \n",
       "168233         0  \n",
       "167768         0  \n",
       "169457         0  \n",
       "167426         1  \n",
       "166800         1  \n",
       "166517         1  \n",
       "166180         1  \n",
       "35             1  \n",
       "141335         1  \n",
       "126805         1  \n",
       "110045         1  \n",
       "64502          1  \n",
       "51791          1  \n",
       "47516          1  \n",
       "42775          1  \n",
       "10945          1  \n",
       "150095         1  \n",
       "164963         1  \n",
       "7914           5  \n",
       "38605          7  \n",
       "6524           8  \n",
       "\n",
       "[27 rows x 27 columns]"
      ]
     },
     "execution_count": 44,
     "metadata": {},
     "output_type": "execute_result"
    }
   ],
   "source": [
    "senior_stay.sort_values(\"time_stay\")"
   ]
  },
  {
   "cell_type": "markdown",
   "metadata": {},
   "source": [
    "From the descriptive statistics, the majority of senior pets still staying at the shelter have been staying there for less than 2 years, and only a few (3 animals) have been there for at least 5 years. All of these 3 longest residents are cats, with two being stray."
   ]
  },
  {
   "cell_type": "markdown",
   "metadata": {},
   "source": [
    "## Conclusions"
   ]
  },
  {
   "cell_type": "markdown",
   "metadata": {},
   "source": [
    "1. Senior animals make up only 6% all animal intakes at the Austin Animal Shelter since October 2013.\n",
    "2. The majority of of senior animals have been either returned to owner, transferred to a partner organization, or adopted. Only 7.7% have been euthanized since October 2013.\n",
    "    * As of the time of this report in March 2022, 90% of senior animals have been either been returned to owner (43%), adopted (28%), or transferred (19%).\n",
    "3. There is evidence in favor of the hypothesis that it takes longer for senior animals to be adopted than younger animals. This result is consistent with the APCA's finding  that senior animals are often the last to be adopted (https://www.aspca.org/blog/four-reasons-open-your-mind-older-pets).\n",
    "4. The majority of senior pets still staying at the shelter have been there for less than 2 years."
   ]
  },
  {
   "cell_type": "markdown",
   "metadata": {},
   "source": [
    "In brief, the majority of senior cats and dogs at the Austin Animal Center have a good outcome, i.e: either being returned to owner, adopted or transferred. Most of the ones staying at the shelter at the time of this analysis have not been there for too long. However, there is evidence that it takes longer time for senior animals to be adopted compared to younger animals at the shelter."
   ]
  },
  {
   "cell_type": "markdown",
   "metadata": {},
   "source": [
    "**Recommendations**"
   ]
  },
  {
   "cell_type": "markdown",
   "metadata": {},
   "source": [
    "Animal shelters may need to increase their marketing efforts for senior dogs and cats if they want to reduce the amount of time it takes for these animals to be adopted. A few options can be:\n",
    "1. To reduce the adoption fees for senior animals.\n",
    "2. To raise awareness of potential adopters about how senior animals might be a wonderful addition to their family.\n",
    "3. To highlight these animals more frequently on their social platforms.\n",
    "\n",
    "For anyone coming across this post who is looking for an animal companion, please check out the senior pets at Albert's Dog Lounge (https://www.albertsdoglounge.org/) or Dane County Humane Society (https://www.giveshelter.org/)."
   ]
  },
  {
   "cell_type": "markdown",
   "metadata": {},
   "source": [
    "## Future works"
   ]
  },
  {
   "cell_type": "markdown",
   "metadata": {},
   "source": [
    "* To dissect any potential differences in outcomes and intakes between senior cats and senior dogs, among breeds, and among different reasons an animal ended up in the shelter in the first place.\n",
    "* To run a regression analysis looking at factors affecting the length of stay in a shelter of animals.\n",
    "* To investigate whether senior adoptions happen more in November, the national senior pet adoption month."
   ]
  }
 ],
 "metadata": {
  "kernelspec": {
   "display_name": "Python 3",
   "language": "python",
   "name": "python3"
  },
  "language_info": {
   "codemirror_mode": {
    "name": "ipython",
    "version": 3
   },
   "file_extension": ".py",
   "mimetype": "text/x-python",
   "name": "python",
   "nbconvert_exporter": "python",
   "pygments_lexer": "ipython3",
   "version": "3.8.5"
  }
 },
 "nbformat": 4,
 "nbformat_minor": 4
}
